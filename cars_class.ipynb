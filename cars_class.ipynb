{
  "nbformat": 4,
  "nbformat_minor": 0,
  "metadata": {
    "colab": {
      "provenance": [],
      "collapsed_sections": []
    },
    "kernelspec": {
      "name": "python3",
      "display_name": "Python 3"
    },
    "language_info": {
      "name": "python"
    }
  },
  "cells": [
    {
      "cell_type": "code",
      "execution_count": 1,
      "metadata": {
        "id": "G6Y877XRU1XA"
      },
      "outputs": [],
      "source": [
        "#Importing Libraries\n",
        "import pandas as pd\n",
        "import numpy as np\n",
        "import seaborn as sns\n",
        "import matplotlib.pyplot as plt"
      ]
    },
    {
      "cell_type": "code",
      "source": [
        "#Importing Dataset\n",
        "data=pd.read_csv('cars_class.csv')"
      ],
      "metadata": {
        "id": "M0xcHQmFVVvn"
      },
      "execution_count": 2,
      "outputs": []
    },
    {
      "cell_type": "code",
      "source": [
        "#shape of the dataset\n",
        "data.shape"
      ],
      "metadata": {
        "colab": {
          "base_uri": "https://localhost:8080/"
        },
        "id": "9R7cl7W3Ve4z",
        "outputId": "30e5d73b-ae79-461e-a808-7ff71e40da94"
      },
      "execution_count": 3,
      "outputs": [
        {
          "output_type": "execute_result",
          "data": {
            "text/plain": [
              "(719, 20)"
            ]
          },
          "metadata": {},
          "execution_count": 3
        }
      ]
    },
    {
      "cell_type": "code",
      "source": [
        "#display the dataset\n",
        "data.head()"
      ],
      "metadata": {
        "colab": {
          "base_uri": "https://localhost:8080/",
          "height": 270
        },
        "id": "uxxT1queV0CS",
        "outputId": "522ab1cc-d099-4866-8e47-03e3534e8dd1"
      },
      "execution_count": 4,
      "outputs": [
        {
          "output_type": "execute_result",
          "data": {
            "text/plain": [
              "   ID  Comp  Circ  D.Circ  Rad.Ra  Pr.Axis.Ra  Max.L.Ra  Scat.Ra  Elong  \\\n",
              "0   1    88    39      70     166          66         7      148     44   \n",
              "1   2    85    35      64     129          57         6      116     57   \n",
              "2   3    91    41      84     141          57         9      149     45   \n",
              "3   4   102    54      98     177          56        10      219     31   \n",
              "4   5    87    39      74     152          58         6      151     44   \n",
              "\n",
              "   Pr.Axis.Rect  Max.L.Rect  Sc.Var.Maxis  Sc.Var.maxis  Ra.Gyr  Skew.Maxis  \\\n",
              "0            19         134           167           332     143          69   \n",
              "1            17         125           138           200     123          65   \n",
              "2            19         143           170           330     158          72   \n",
              "3            25         171           219           706     223          72   \n",
              "4            19         136           174           337     140          70   \n",
              "\n",
              "   Skew.maxis  Kurt.maxis  Kurt.Maxis  Holl.Ra  Class  \n",
              "0           5          13         193      201      0  \n",
              "1           1          23         196      203      3  \n",
              "2           9          14         189      199      3  \n",
              "3           5          17         186      196      1  \n",
              "4           1          33         187      196      2  "
            ],
            "text/html": [
              "\n",
              "  <div id=\"df-bc600ffe-ad95-42b3-8125-f5b877f674ec\">\n",
              "    <div class=\"colab-df-container\">\n",
              "      <div>\n",
              "<style scoped>\n",
              "    .dataframe tbody tr th:only-of-type {\n",
              "        vertical-align: middle;\n",
              "    }\n",
              "\n",
              "    .dataframe tbody tr th {\n",
              "        vertical-align: top;\n",
              "    }\n",
              "\n",
              "    .dataframe thead th {\n",
              "        text-align: right;\n",
              "    }\n",
              "</style>\n",
              "<table border=\"1\" class=\"dataframe\">\n",
              "  <thead>\n",
              "    <tr style=\"text-align: right;\">\n",
              "      <th></th>\n",
              "      <th>ID</th>\n",
              "      <th>Comp</th>\n",
              "      <th>Circ</th>\n",
              "      <th>D.Circ</th>\n",
              "      <th>Rad.Ra</th>\n",
              "      <th>Pr.Axis.Ra</th>\n",
              "      <th>Max.L.Ra</th>\n",
              "      <th>Scat.Ra</th>\n",
              "      <th>Elong</th>\n",
              "      <th>Pr.Axis.Rect</th>\n",
              "      <th>Max.L.Rect</th>\n",
              "      <th>Sc.Var.Maxis</th>\n",
              "      <th>Sc.Var.maxis</th>\n",
              "      <th>Ra.Gyr</th>\n",
              "      <th>Skew.Maxis</th>\n",
              "      <th>Skew.maxis</th>\n",
              "      <th>Kurt.maxis</th>\n",
              "      <th>Kurt.Maxis</th>\n",
              "      <th>Holl.Ra</th>\n",
              "      <th>Class</th>\n",
              "    </tr>\n",
              "  </thead>\n",
              "  <tbody>\n",
              "    <tr>\n",
              "      <th>0</th>\n",
              "      <td>1</td>\n",
              "      <td>88</td>\n",
              "      <td>39</td>\n",
              "      <td>70</td>\n",
              "      <td>166</td>\n",
              "      <td>66</td>\n",
              "      <td>7</td>\n",
              "      <td>148</td>\n",
              "      <td>44</td>\n",
              "      <td>19</td>\n",
              "      <td>134</td>\n",
              "      <td>167</td>\n",
              "      <td>332</td>\n",
              "      <td>143</td>\n",
              "      <td>69</td>\n",
              "      <td>5</td>\n",
              "      <td>13</td>\n",
              "      <td>193</td>\n",
              "      <td>201</td>\n",
              "      <td>0</td>\n",
              "    </tr>\n",
              "    <tr>\n",
              "      <th>1</th>\n",
              "      <td>2</td>\n",
              "      <td>85</td>\n",
              "      <td>35</td>\n",
              "      <td>64</td>\n",
              "      <td>129</td>\n",
              "      <td>57</td>\n",
              "      <td>6</td>\n",
              "      <td>116</td>\n",
              "      <td>57</td>\n",
              "      <td>17</td>\n",
              "      <td>125</td>\n",
              "      <td>138</td>\n",
              "      <td>200</td>\n",
              "      <td>123</td>\n",
              "      <td>65</td>\n",
              "      <td>1</td>\n",
              "      <td>23</td>\n",
              "      <td>196</td>\n",
              "      <td>203</td>\n",
              "      <td>3</td>\n",
              "    </tr>\n",
              "    <tr>\n",
              "      <th>2</th>\n",
              "      <td>3</td>\n",
              "      <td>91</td>\n",
              "      <td>41</td>\n",
              "      <td>84</td>\n",
              "      <td>141</td>\n",
              "      <td>57</td>\n",
              "      <td>9</td>\n",
              "      <td>149</td>\n",
              "      <td>45</td>\n",
              "      <td>19</td>\n",
              "      <td>143</td>\n",
              "      <td>170</td>\n",
              "      <td>330</td>\n",
              "      <td>158</td>\n",
              "      <td>72</td>\n",
              "      <td>9</td>\n",
              "      <td>14</td>\n",
              "      <td>189</td>\n",
              "      <td>199</td>\n",
              "      <td>3</td>\n",
              "    </tr>\n",
              "    <tr>\n",
              "      <th>3</th>\n",
              "      <td>4</td>\n",
              "      <td>102</td>\n",
              "      <td>54</td>\n",
              "      <td>98</td>\n",
              "      <td>177</td>\n",
              "      <td>56</td>\n",
              "      <td>10</td>\n",
              "      <td>219</td>\n",
              "      <td>31</td>\n",
              "      <td>25</td>\n",
              "      <td>171</td>\n",
              "      <td>219</td>\n",
              "      <td>706</td>\n",
              "      <td>223</td>\n",
              "      <td>72</td>\n",
              "      <td>5</td>\n",
              "      <td>17</td>\n",
              "      <td>186</td>\n",
              "      <td>196</td>\n",
              "      <td>1</td>\n",
              "    </tr>\n",
              "    <tr>\n",
              "      <th>4</th>\n",
              "      <td>5</td>\n",
              "      <td>87</td>\n",
              "      <td>39</td>\n",
              "      <td>74</td>\n",
              "      <td>152</td>\n",
              "      <td>58</td>\n",
              "      <td>6</td>\n",
              "      <td>151</td>\n",
              "      <td>44</td>\n",
              "      <td>19</td>\n",
              "      <td>136</td>\n",
              "      <td>174</td>\n",
              "      <td>337</td>\n",
              "      <td>140</td>\n",
              "      <td>70</td>\n",
              "      <td>1</td>\n",
              "      <td>33</td>\n",
              "      <td>187</td>\n",
              "      <td>196</td>\n",
              "      <td>2</td>\n",
              "    </tr>\n",
              "  </tbody>\n",
              "</table>\n",
              "</div>\n",
              "      <button class=\"colab-df-convert\" onclick=\"convertToInteractive('df-bc600ffe-ad95-42b3-8125-f5b877f674ec')\"\n",
              "              title=\"Convert this dataframe to an interactive table.\"\n",
              "              style=\"display:none;\">\n",
              "        \n",
              "  <svg xmlns=\"http://www.w3.org/2000/svg\" height=\"24px\"viewBox=\"0 0 24 24\"\n",
              "       width=\"24px\">\n",
              "    <path d=\"M0 0h24v24H0V0z\" fill=\"none\"/>\n",
              "    <path d=\"M18.56 5.44l.94 2.06.94-2.06 2.06-.94-2.06-.94-.94-2.06-.94 2.06-2.06.94zm-11 1L8.5 8.5l.94-2.06 2.06-.94-2.06-.94L8.5 2.5l-.94 2.06-2.06.94zm10 10l.94 2.06.94-2.06 2.06-.94-2.06-.94-.94-2.06-.94 2.06-2.06.94z\"/><path d=\"M17.41 7.96l-1.37-1.37c-.4-.4-.92-.59-1.43-.59-.52 0-1.04.2-1.43.59L10.3 9.45l-7.72 7.72c-.78.78-.78 2.05 0 2.83L4 21.41c.39.39.9.59 1.41.59.51 0 1.02-.2 1.41-.59l7.78-7.78 2.81-2.81c.8-.78.8-2.07 0-2.86zM5.41 20L4 18.59l7.72-7.72 1.47 1.35L5.41 20z\"/>\n",
              "  </svg>\n",
              "      </button>\n",
              "      \n",
              "  <style>\n",
              "    .colab-df-container {\n",
              "      display:flex;\n",
              "      flex-wrap:wrap;\n",
              "      gap: 12px;\n",
              "    }\n",
              "\n",
              "    .colab-df-convert {\n",
              "      background-color: #E8F0FE;\n",
              "      border: none;\n",
              "      border-radius: 50%;\n",
              "      cursor: pointer;\n",
              "      display: none;\n",
              "      fill: #1967D2;\n",
              "      height: 32px;\n",
              "      padding: 0 0 0 0;\n",
              "      width: 32px;\n",
              "    }\n",
              "\n",
              "    .colab-df-convert:hover {\n",
              "      background-color: #E2EBFA;\n",
              "      box-shadow: 0px 1px 2px rgba(60, 64, 67, 0.3), 0px 1px 3px 1px rgba(60, 64, 67, 0.15);\n",
              "      fill: #174EA6;\n",
              "    }\n",
              "\n",
              "    [theme=dark] .colab-df-convert {\n",
              "      background-color: #3B4455;\n",
              "      fill: #D2E3FC;\n",
              "    }\n",
              "\n",
              "    [theme=dark] .colab-df-convert:hover {\n",
              "      background-color: #434B5C;\n",
              "      box-shadow: 0px 1px 3px 1px rgba(0, 0, 0, 0.15);\n",
              "      filter: drop-shadow(0px 1px 2px rgba(0, 0, 0, 0.3));\n",
              "      fill: #FFFFFF;\n",
              "    }\n",
              "  </style>\n",
              "\n",
              "      <script>\n",
              "        const buttonEl =\n",
              "          document.querySelector('#df-bc600ffe-ad95-42b3-8125-f5b877f674ec button.colab-df-convert');\n",
              "        buttonEl.style.display =\n",
              "          google.colab.kernel.accessAllowed ? 'block' : 'none';\n",
              "\n",
              "        async function convertToInteractive(key) {\n",
              "          const element = document.querySelector('#df-bc600ffe-ad95-42b3-8125-f5b877f674ec');\n",
              "          const dataTable =\n",
              "            await google.colab.kernel.invokeFunction('convertToInteractive',\n",
              "                                                     [key], {});\n",
              "          if (!dataTable) return;\n",
              "\n",
              "          const docLinkHtml = 'Like what you see? Visit the ' +\n",
              "            '<a target=\"_blank\" href=https://colab.research.google.com/notebooks/data_table.ipynb>data table notebook</a>'\n",
              "            + ' to learn more about interactive tables.';\n",
              "          element.innerHTML = '';\n",
              "          dataTable['output_type'] = 'display_data';\n",
              "          await google.colab.output.renderOutput(dataTable, element);\n",
              "          const docLink = document.createElement('div');\n",
              "          docLink.innerHTML = docLinkHtml;\n",
              "          element.appendChild(docLink);\n",
              "        }\n",
              "      </script>\n",
              "    </div>\n",
              "  </div>\n",
              "  "
            ]
          },
          "metadata": {},
          "execution_count": 4
        }
      ]
    },
    {
      "cell_type": "code",
      "source": [
        "#displaying the columns\n",
        "data.columns"
      ],
      "metadata": {
        "colab": {
          "base_uri": "https://localhost:8080/"
        },
        "id": "o8CNax6pWNci",
        "outputId": "bb048795-8d0d-4a01-c73a-c972caa628b2"
      },
      "execution_count": 5,
      "outputs": [
        {
          "output_type": "execute_result",
          "data": {
            "text/plain": [
              "Index(['ID', 'Comp', 'Circ', 'D.Circ', 'Rad.Ra', 'Pr.Axis.Ra', 'Max.L.Ra',\n",
              "       'Scat.Ra', 'Elong', 'Pr.Axis.Rect', 'Max.L.Rect', 'Sc.Var.Maxis',\n",
              "       'Sc.Var.maxis', 'Ra.Gyr', 'Skew.Maxis', 'Skew.maxis', 'Kurt.maxis',\n",
              "       'Kurt.Maxis', 'Holl.Ra', 'Class'],\n",
              "      dtype='object')"
            ]
          },
          "metadata": {},
          "execution_count": 5
        }
      ]
    },
    {
      "cell_type": "code",
      "source": [
        "#datatypes of the attributes\n",
        "data.dtypes"
      ],
      "metadata": {
        "colab": {
          "base_uri": "https://localhost:8080/"
        },
        "id": "Fd9L3ySKWTPb",
        "outputId": "638d5886-e915-4b4a-ca27-a4bb4c317445"
      },
      "execution_count": 6,
      "outputs": [
        {
          "output_type": "execute_result",
          "data": {
            "text/plain": [
              "ID              int64\n",
              "Comp            int64\n",
              "Circ            int64\n",
              "D.Circ          int64\n",
              "Rad.Ra          int64\n",
              "Pr.Axis.Ra      int64\n",
              "Max.L.Ra        int64\n",
              "Scat.Ra         int64\n",
              "Elong           int64\n",
              "Pr.Axis.Rect    int64\n",
              "Max.L.Rect      int64\n",
              "Sc.Var.Maxis    int64\n",
              "Sc.Var.maxis    int64\n",
              "Ra.Gyr          int64\n",
              "Skew.Maxis      int64\n",
              "Skew.maxis      int64\n",
              "Kurt.maxis      int64\n",
              "Kurt.Maxis      int64\n",
              "Holl.Ra         int64\n",
              "Class           int64\n",
              "dtype: object"
            ]
          },
          "metadata": {},
          "execution_count": 6
        }
      ]
    },
    {
      "cell_type": "markdown",
      "source": [
        "**We have all the columns containing the numeric value ,while only class atttribute has categorical values**"
      ],
      "metadata": {
        "id": "x4X2sj2DWojM"
      }
    },
    {
      "cell_type": "code",
      "source": [
        "data.info()"
      ],
      "metadata": {
        "colab": {
          "base_uri": "https://localhost:8080/"
        },
        "id": "n9Cu2oD7V50t",
        "outputId": "7237f9ca-c3b0-40f7-d5a4-f67849febad1"
      },
      "execution_count": 7,
      "outputs": [
        {
          "output_type": "stream",
          "name": "stdout",
          "text": [
            "<class 'pandas.core.frame.DataFrame'>\n",
            "RangeIndex: 719 entries, 0 to 718\n",
            "Data columns (total 20 columns):\n",
            " #   Column        Non-Null Count  Dtype\n",
            "---  ------        --------------  -----\n",
            " 0   ID            719 non-null    int64\n",
            " 1   Comp          719 non-null    int64\n",
            " 2   Circ          719 non-null    int64\n",
            " 3   D.Circ        719 non-null    int64\n",
            " 4   Rad.Ra        719 non-null    int64\n",
            " 5   Pr.Axis.Ra    719 non-null    int64\n",
            " 6   Max.L.Ra      719 non-null    int64\n",
            " 7   Scat.Ra       719 non-null    int64\n",
            " 8   Elong         719 non-null    int64\n",
            " 9   Pr.Axis.Rect  719 non-null    int64\n",
            " 10  Max.L.Rect    719 non-null    int64\n",
            " 11  Sc.Var.Maxis  719 non-null    int64\n",
            " 12  Sc.Var.maxis  719 non-null    int64\n",
            " 13  Ra.Gyr        719 non-null    int64\n",
            " 14  Skew.Maxis    719 non-null    int64\n",
            " 15  Skew.maxis    719 non-null    int64\n",
            " 16  Kurt.maxis    719 non-null    int64\n",
            " 17  Kurt.Maxis    719 non-null    int64\n",
            " 18  Holl.Ra       719 non-null    int64\n",
            " 19  Class         719 non-null    int64\n",
            "dtypes: int64(20)\n",
            "memory usage: 112.5 KB\n"
          ]
        }
      ]
    },
    {
      "cell_type": "code",
      "source": [
        "data.describe()"
      ],
      "metadata": {
        "colab": {
          "base_uri": "https://localhost:8080/",
          "height": 364
        },
        "id": "4jJA2oRKV90E",
        "outputId": "9bdb435e-31dd-4f99-aefd-5bda82a50e43"
      },
      "execution_count": 8,
      "outputs": [
        {
          "output_type": "execute_result",
          "data": {
            "text/plain": [
              "               ID        Comp        Circ      D.Circ      Rad.Ra  Pr.Axis.Ra  \\\n",
              "count  719.000000  719.000000  719.000000  719.000000  719.000000  719.000000   \n",
              "mean   360.000000   93.435327   44.851182   81.723227  168.579972   61.847010   \n",
              "std    207.701709    8.111406    6.150286   15.528208   33.809172    8.259136   \n",
              "min      1.000000   73.000000   33.000000   40.000000  105.000000   47.000000   \n",
              "25%    180.500000   87.000000   40.000000   70.000000  141.000000   57.000000   \n",
              "50%    360.000000   93.000000   44.000000   79.000000  166.000000   61.000000   \n",
              "75%    539.500000   99.000000   49.000000   96.000000  194.500000   65.000000   \n",
              "max    719.000000  119.000000   59.000000  110.000000  333.000000  138.000000   \n",
              "\n",
              "         Max.L.Ra     Scat.Ra       Elong  Pr.Axis.Rect  Max.L.Rect  \\\n",
              "count  719.000000  719.000000  719.000000    719.000000  719.000000   \n",
              "mean     8.625869  168.137691   41.075104     20.531293  148.030598   \n",
              "std      4.916908   32.937591    7.764459      2.560969   14.560092   \n",
              "min      2.000000  112.000000   26.000000     17.000000  118.000000   \n",
              "25%      6.000000  146.000000   33.000000     19.000000  137.000000   \n",
              "50%      8.000000  157.000000   43.000000     20.000000  146.000000   \n",
              "75%     10.000000  197.500000   46.000000     23.000000  159.000000   \n",
              "max     55.000000  265.000000   61.000000     29.000000  188.000000   \n",
              "\n",
              "       Sc.Var.Maxis  Sc.Var.maxis      Ra.Gyr  Skew.Maxis  Skew.maxis  \\\n",
              "count    719.000000    719.000000  719.000000  719.000000  719.000000   \n",
              "mean     188.168289    436.215577  174.726008   72.682893    6.343533   \n",
              "std       31.235395    174.964977   32.149568    7.542055    4.856169   \n",
              "min      130.000000    184.000000  109.000000   59.000000    0.000000   \n",
              "25%      167.000000    317.000000  149.000000   68.000000    2.000000   \n",
              "50%      178.000000    362.000000  174.000000   72.000000    6.000000   \n",
              "75%      216.000000    584.500000  198.000000   76.000000    9.000000   \n",
              "max      320.000000   1018.000000  262.000000  135.000000   22.000000   \n",
              "\n",
              "       Kurt.maxis  Kurt.Maxis     Holl.Ra       Class  \n",
              "count  719.000000  719.000000  719.000000  719.000000  \n",
              "mean    12.394993  188.798331  195.407510    1.470097  \n",
              "std      8.742511    6.048522    7.235166    1.126477  \n",
              "min      0.000000  176.000000  181.000000    0.000000  \n",
              "25%      5.500000  184.000000  190.000000    0.000000  \n",
              "50%     11.000000  188.000000  196.000000    1.000000  \n",
              "75%     18.000000  193.000000  201.000000    2.000000  \n",
              "max     41.000000  204.000000  211.000000    3.000000  "
            ],
            "text/html": [
              "\n",
              "  <div id=\"df-92749990-a30b-4530-9cb1-490e420db5a6\">\n",
              "    <div class=\"colab-df-container\">\n",
              "      <div>\n",
              "<style scoped>\n",
              "    .dataframe tbody tr th:only-of-type {\n",
              "        vertical-align: middle;\n",
              "    }\n",
              "\n",
              "    .dataframe tbody tr th {\n",
              "        vertical-align: top;\n",
              "    }\n",
              "\n",
              "    .dataframe thead th {\n",
              "        text-align: right;\n",
              "    }\n",
              "</style>\n",
              "<table border=\"1\" class=\"dataframe\">\n",
              "  <thead>\n",
              "    <tr style=\"text-align: right;\">\n",
              "      <th></th>\n",
              "      <th>ID</th>\n",
              "      <th>Comp</th>\n",
              "      <th>Circ</th>\n",
              "      <th>D.Circ</th>\n",
              "      <th>Rad.Ra</th>\n",
              "      <th>Pr.Axis.Ra</th>\n",
              "      <th>Max.L.Ra</th>\n",
              "      <th>Scat.Ra</th>\n",
              "      <th>Elong</th>\n",
              "      <th>Pr.Axis.Rect</th>\n",
              "      <th>Max.L.Rect</th>\n",
              "      <th>Sc.Var.Maxis</th>\n",
              "      <th>Sc.Var.maxis</th>\n",
              "      <th>Ra.Gyr</th>\n",
              "      <th>Skew.Maxis</th>\n",
              "      <th>Skew.maxis</th>\n",
              "      <th>Kurt.maxis</th>\n",
              "      <th>Kurt.Maxis</th>\n",
              "      <th>Holl.Ra</th>\n",
              "      <th>Class</th>\n",
              "    </tr>\n",
              "  </thead>\n",
              "  <tbody>\n",
              "    <tr>\n",
              "      <th>count</th>\n",
              "      <td>719.000000</td>\n",
              "      <td>719.000000</td>\n",
              "      <td>719.000000</td>\n",
              "      <td>719.000000</td>\n",
              "      <td>719.000000</td>\n",
              "      <td>719.000000</td>\n",
              "      <td>719.000000</td>\n",
              "      <td>719.000000</td>\n",
              "      <td>719.000000</td>\n",
              "      <td>719.000000</td>\n",
              "      <td>719.000000</td>\n",
              "      <td>719.000000</td>\n",
              "      <td>719.000000</td>\n",
              "      <td>719.000000</td>\n",
              "      <td>719.000000</td>\n",
              "      <td>719.000000</td>\n",
              "      <td>719.000000</td>\n",
              "      <td>719.000000</td>\n",
              "      <td>719.000000</td>\n",
              "      <td>719.000000</td>\n",
              "    </tr>\n",
              "    <tr>\n",
              "      <th>mean</th>\n",
              "      <td>360.000000</td>\n",
              "      <td>93.435327</td>\n",
              "      <td>44.851182</td>\n",
              "      <td>81.723227</td>\n",
              "      <td>168.579972</td>\n",
              "      <td>61.847010</td>\n",
              "      <td>8.625869</td>\n",
              "      <td>168.137691</td>\n",
              "      <td>41.075104</td>\n",
              "      <td>20.531293</td>\n",
              "      <td>148.030598</td>\n",
              "      <td>188.168289</td>\n",
              "      <td>436.215577</td>\n",
              "      <td>174.726008</td>\n",
              "      <td>72.682893</td>\n",
              "      <td>6.343533</td>\n",
              "      <td>12.394993</td>\n",
              "      <td>188.798331</td>\n",
              "      <td>195.407510</td>\n",
              "      <td>1.470097</td>\n",
              "    </tr>\n",
              "    <tr>\n",
              "      <th>std</th>\n",
              "      <td>207.701709</td>\n",
              "      <td>8.111406</td>\n",
              "      <td>6.150286</td>\n",
              "      <td>15.528208</td>\n",
              "      <td>33.809172</td>\n",
              "      <td>8.259136</td>\n",
              "      <td>4.916908</td>\n",
              "      <td>32.937591</td>\n",
              "      <td>7.764459</td>\n",
              "      <td>2.560969</td>\n",
              "      <td>14.560092</td>\n",
              "      <td>31.235395</td>\n",
              "      <td>174.964977</td>\n",
              "      <td>32.149568</td>\n",
              "      <td>7.542055</td>\n",
              "      <td>4.856169</td>\n",
              "      <td>8.742511</td>\n",
              "      <td>6.048522</td>\n",
              "      <td>7.235166</td>\n",
              "      <td>1.126477</td>\n",
              "    </tr>\n",
              "    <tr>\n",
              "      <th>min</th>\n",
              "      <td>1.000000</td>\n",
              "      <td>73.000000</td>\n",
              "      <td>33.000000</td>\n",
              "      <td>40.000000</td>\n",
              "      <td>105.000000</td>\n",
              "      <td>47.000000</td>\n",
              "      <td>2.000000</td>\n",
              "      <td>112.000000</td>\n",
              "      <td>26.000000</td>\n",
              "      <td>17.000000</td>\n",
              "      <td>118.000000</td>\n",
              "      <td>130.000000</td>\n",
              "      <td>184.000000</td>\n",
              "      <td>109.000000</td>\n",
              "      <td>59.000000</td>\n",
              "      <td>0.000000</td>\n",
              "      <td>0.000000</td>\n",
              "      <td>176.000000</td>\n",
              "      <td>181.000000</td>\n",
              "      <td>0.000000</td>\n",
              "    </tr>\n",
              "    <tr>\n",
              "      <th>25%</th>\n",
              "      <td>180.500000</td>\n",
              "      <td>87.000000</td>\n",
              "      <td>40.000000</td>\n",
              "      <td>70.000000</td>\n",
              "      <td>141.000000</td>\n",
              "      <td>57.000000</td>\n",
              "      <td>6.000000</td>\n",
              "      <td>146.000000</td>\n",
              "      <td>33.000000</td>\n",
              "      <td>19.000000</td>\n",
              "      <td>137.000000</td>\n",
              "      <td>167.000000</td>\n",
              "      <td>317.000000</td>\n",
              "      <td>149.000000</td>\n",
              "      <td>68.000000</td>\n",
              "      <td>2.000000</td>\n",
              "      <td>5.500000</td>\n",
              "      <td>184.000000</td>\n",
              "      <td>190.000000</td>\n",
              "      <td>0.000000</td>\n",
              "    </tr>\n",
              "    <tr>\n",
              "      <th>50%</th>\n",
              "      <td>360.000000</td>\n",
              "      <td>93.000000</td>\n",
              "      <td>44.000000</td>\n",
              "      <td>79.000000</td>\n",
              "      <td>166.000000</td>\n",
              "      <td>61.000000</td>\n",
              "      <td>8.000000</td>\n",
              "      <td>157.000000</td>\n",
              "      <td>43.000000</td>\n",
              "      <td>20.000000</td>\n",
              "      <td>146.000000</td>\n",
              "      <td>178.000000</td>\n",
              "      <td>362.000000</td>\n",
              "      <td>174.000000</td>\n",
              "      <td>72.000000</td>\n",
              "      <td>6.000000</td>\n",
              "      <td>11.000000</td>\n",
              "      <td>188.000000</td>\n",
              "      <td>196.000000</td>\n",
              "      <td>1.000000</td>\n",
              "    </tr>\n",
              "    <tr>\n",
              "      <th>75%</th>\n",
              "      <td>539.500000</td>\n",
              "      <td>99.000000</td>\n",
              "      <td>49.000000</td>\n",
              "      <td>96.000000</td>\n",
              "      <td>194.500000</td>\n",
              "      <td>65.000000</td>\n",
              "      <td>10.000000</td>\n",
              "      <td>197.500000</td>\n",
              "      <td>46.000000</td>\n",
              "      <td>23.000000</td>\n",
              "      <td>159.000000</td>\n",
              "      <td>216.000000</td>\n",
              "      <td>584.500000</td>\n",
              "      <td>198.000000</td>\n",
              "      <td>76.000000</td>\n",
              "      <td>9.000000</td>\n",
              "      <td>18.000000</td>\n",
              "      <td>193.000000</td>\n",
              "      <td>201.000000</td>\n",
              "      <td>2.000000</td>\n",
              "    </tr>\n",
              "    <tr>\n",
              "      <th>max</th>\n",
              "      <td>719.000000</td>\n",
              "      <td>119.000000</td>\n",
              "      <td>59.000000</td>\n",
              "      <td>110.000000</td>\n",
              "      <td>333.000000</td>\n",
              "      <td>138.000000</td>\n",
              "      <td>55.000000</td>\n",
              "      <td>265.000000</td>\n",
              "      <td>61.000000</td>\n",
              "      <td>29.000000</td>\n",
              "      <td>188.000000</td>\n",
              "      <td>320.000000</td>\n",
              "      <td>1018.000000</td>\n",
              "      <td>262.000000</td>\n",
              "      <td>135.000000</td>\n",
              "      <td>22.000000</td>\n",
              "      <td>41.000000</td>\n",
              "      <td>204.000000</td>\n",
              "      <td>211.000000</td>\n",
              "      <td>3.000000</td>\n",
              "    </tr>\n",
              "  </tbody>\n",
              "</table>\n",
              "</div>\n",
              "      <button class=\"colab-df-convert\" onclick=\"convertToInteractive('df-92749990-a30b-4530-9cb1-490e420db5a6')\"\n",
              "              title=\"Convert this dataframe to an interactive table.\"\n",
              "              style=\"display:none;\">\n",
              "        \n",
              "  <svg xmlns=\"http://www.w3.org/2000/svg\" height=\"24px\"viewBox=\"0 0 24 24\"\n",
              "       width=\"24px\">\n",
              "    <path d=\"M0 0h24v24H0V0z\" fill=\"none\"/>\n",
              "    <path d=\"M18.56 5.44l.94 2.06.94-2.06 2.06-.94-2.06-.94-.94-2.06-.94 2.06-2.06.94zm-11 1L8.5 8.5l.94-2.06 2.06-.94-2.06-.94L8.5 2.5l-.94 2.06-2.06.94zm10 10l.94 2.06.94-2.06 2.06-.94-2.06-.94-.94-2.06-.94 2.06-2.06.94z\"/><path d=\"M17.41 7.96l-1.37-1.37c-.4-.4-.92-.59-1.43-.59-.52 0-1.04.2-1.43.59L10.3 9.45l-7.72 7.72c-.78.78-.78 2.05 0 2.83L4 21.41c.39.39.9.59 1.41.59.51 0 1.02-.2 1.41-.59l7.78-7.78 2.81-2.81c.8-.78.8-2.07 0-2.86zM5.41 20L4 18.59l7.72-7.72 1.47 1.35L5.41 20z\"/>\n",
              "  </svg>\n",
              "      </button>\n",
              "      \n",
              "  <style>\n",
              "    .colab-df-container {\n",
              "      display:flex;\n",
              "      flex-wrap:wrap;\n",
              "      gap: 12px;\n",
              "    }\n",
              "\n",
              "    .colab-df-convert {\n",
              "      background-color: #E8F0FE;\n",
              "      border: none;\n",
              "      border-radius: 50%;\n",
              "      cursor: pointer;\n",
              "      display: none;\n",
              "      fill: #1967D2;\n",
              "      height: 32px;\n",
              "      padding: 0 0 0 0;\n",
              "      width: 32px;\n",
              "    }\n",
              "\n",
              "    .colab-df-convert:hover {\n",
              "      background-color: #E2EBFA;\n",
              "      box-shadow: 0px 1px 2px rgba(60, 64, 67, 0.3), 0px 1px 3px 1px rgba(60, 64, 67, 0.15);\n",
              "      fill: #174EA6;\n",
              "    }\n",
              "\n",
              "    [theme=dark] .colab-df-convert {\n",
              "      background-color: #3B4455;\n",
              "      fill: #D2E3FC;\n",
              "    }\n",
              "\n",
              "    [theme=dark] .colab-df-convert:hover {\n",
              "      background-color: #434B5C;\n",
              "      box-shadow: 0px 1px 3px 1px rgba(0, 0, 0, 0.15);\n",
              "      filter: drop-shadow(0px 1px 2px rgba(0, 0, 0, 0.3));\n",
              "      fill: #FFFFFF;\n",
              "    }\n",
              "  </style>\n",
              "\n",
              "      <script>\n",
              "        const buttonEl =\n",
              "          document.querySelector('#df-92749990-a30b-4530-9cb1-490e420db5a6 button.colab-df-convert');\n",
              "        buttonEl.style.display =\n",
              "          google.colab.kernel.accessAllowed ? 'block' : 'none';\n",
              "\n",
              "        async function convertToInteractive(key) {\n",
              "          const element = document.querySelector('#df-92749990-a30b-4530-9cb1-490e420db5a6');\n",
              "          const dataTable =\n",
              "            await google.colab.kernel.invokeFunction('convertToInteractive',\n",
              "                                                     [key], {});\n",
              "          if (!dataTable) return;\n",
              "\n",
              "          const docLinkHtml = 'Like what you see? Visit the ' +\n",
              "            '<a target=\"_blank\" href=https://colab.research.google.com/notebooks/data_table.ipynb>data table notebook</a>'\n",
              "            + ' to learn more about interactive tables.';\n",
              "          element.innerHTML = '';\n",
              "          dataTable['output_type'] = 'display_data';\n",
              "          await google.colab.output.renderOutput(dataTable, element);\n",
              "          const docLink = document.createElement('div');\n",
              "          docLink.innerHTML = docLinkHtml;\n",
              "          element.appendChild(docLink);\n",
              "        }\n",
              "      </script>\n",
              "    </div>\n",
              "  </div>\n",
              "  "
            ]
          },
          "metadata": {},
          "execution_count": 8
        }
      ]
    },
    {
      "cell_type": "code",
      "source": [
        "#checking missing value\n",
        "data.isnull().sum()"
      ],
      "metadata": {
        "colab": {
          "base_uri": "https://localhost:8080/"
        },
        "id": "RNhXMoJjWBim",
        "outputId": "a56ca43f-0f82-45ac-e27a-71d45ea0a2c5"
      },
      "execution_count": 9,
      "outputs": [
        {
          "output_type": "execute_result",
          "data": {
            "text/plain": [
              "ID              0\n",
              "Comp            0\n",
              "Circ            0\n",
              "D.Circ          0\n",
              "Rad.Ra          0\n",
              "Pr.Axis.Ra      0\n",
              "Max.L.Ra        0\n",
              "Scat.Ra         0\n",
              "Elong           0\n",
              "Pr.Axis.Rect    0\n",
              "Max.L.Rect      0\n",
              "Sc.Var.Maxis    0\n",
              "Sc.Var.maxis    0\n",
              "Ra.Gyr          0\n",
              "Skew.Maxis      0\n",
              "Skew.maxis      0\n",
              "Kurt.maxis      0\n",
              "Kurt.Maxis      0\n",
              "Holl.Ra         0\n",
              "Class           0\n",
              "dtype: int64"
            ]
          },
          "metadata": {},
          "execution_count": 9
        }
      ]
    },
    {
      "cell_type": "code",
      "source": [
        "correlation=data.corr()"
      ],
      "metadata": {
        "id": "jvYIwaeBEKnY"
      },
      "execution_count": 10,
      "outputs": []
    },
    {
      "cell_type": "code",
      "source": [
        "sns.heatmap(data.corr(), cmap=\"YlGnBu\", annot=True);"
      ],
      "metadata": {
        "colab": {
          "base_uri": "https://localhost:8080/",
          "height": 323
        },
        "id": "Cv3VL19gEPAY",
        "outputId": "69d5b4c2-f8c5-4beb-b31c-d545e03878b1"
      },
      "execution_count": 11,
      "outputs": [
        {
          "output_type": "display_data",
          "data": {
            "text/plain": [
              "<Figure size 432x288 with 2 Axes>"
            ],
            "image/png": "[encoded data removed]"
          },
          "metadata": {
            "needs_background": "light"
          }
        }
      ]
    },
    {
      "cell_type": "code",
      "source": [
        "#Boxplot to understand spread and outlier\n",
        "data.plot(kind='box', figsize=(25,15))"
      ],
      "metadata": {
        "colab": {
          "base_uri": "https://localhost:8080/",
          "height": 714
        },
        "id": "U5VDpqQ1Wx8u",
        "outputId": "97f04278-4304-424f-ab30-268eb63d0db6"
      },
      "execution_count": 12,
      "outputs": [
        {
          "output_type": "execute_result",
          "data": {
            "text/plain": [
              "<matplotlib.axes._subplots.AxesSubplot at 0x7f7ce62ce210>"
            ]
          },
          "metadata": {},
          "execution_count": 12
        },
        {
          "output_type": "display_data",
          "data": {
            "text/plain": [
              "<Figure size 1800x1080 with 1 Axes>"
            ],
            "image/png": "[encoded data removed]"
          },
          "metadata": {
            "needs_background": "light"
          }
        }
      ]
    },
    {
      "cell_type": "code",
      "source": [
        "data.hist(figsize=(15,15))"
      ],
      "metadata": {
        "colab": {
          "base_uri": "https://localhost:8080/",
          "height": 1000
        },
        "id": "A3m3P9fzXCxq",
        "outputId": "dfb44a80-3595-4c94-df67-06ac69fae13a"
      },
      "execution_count": 13,
      "outputs": [
        {
          "output_type": "execute_result",
          "data": {
            "text/plain": [
              "array([[<matplotlib.axes._subplots.AxesSubplot object at 0x7f7ce358ab90>,\n",
              "        <matplotlib.axes._subplots.AxesSubplot object at 0x7f7ce1631b50>,\n",
              "        <matplotlib.axes._subplots.AxesSubplot object at 0x7f7ce15dcb10>,\n",
              "        <matplotlib.axes._subplots.AxesSubplot object at 0x7f7ce15a9510>],\n",
              "       [<matplotlib.axes._subplots.AxesSubplot object at 0x7f7ce1560a10>,\n",
              "        <matplotlib.axes._subplots.AxesSubplot object at 0x7f7ce1515f10>,\n",
              "        <matplotlib.axes._subplots.AxesSubplot object at 0x7f7ce14d64d0>,\n",
              "        <matplotlib.axes._subplots.AxesSubplot object at 0x7f7ce1491910>],\n",
              "       [<matplotlib.axes._subplots.AxesSubplot object at 0x7f7ce1491950>,\n",
              "        <matplotlib.axes._subplots.AxesSubplot object at 0x7f7ce14c5f50>,\n",
              "        <matplotlib.axes._subplots.AxesSubplot object at 0x7f7ce1440890>,\n",
              "        <matplotlib.axes._subplots.AxesSubplot object at 0x7f7ce13f5d90>],\n",
              "       [<matplotlib.axes._subplots.AxesSubplot object at 0x7f7ce13be310>,\n",
              "        <matplotlib.axes._subplots.AxesSubplot object at 0x7f7ce1374810>,\n",
              "        <matplotlib.axes._subplots.AxesSubplot object at 0x7f7ce132ad10>,\n",
              "        <matplotlib.axes._subplots.AxesSubplot object at 0x7f7ce12ee250>],\n",
              "       [<matplotlib.axes._subplots.AxesSubplot object at 0x7f7ce12a4750>,\n",
              "        <matplotlib.axes._subplots.AxesSubplot object at 0x7f7ce390d110>,\n",
              "        <matplotlib.axes._subplots.AxesSubplot object at 0x7f7ce35694d0>,\n",
              "        <matplotlib.axes._subplots.AxesSubplot object at 0x7f7ce393e110>]],\n",
              "      dtype=object)"
            ]
          },
          "metadata": {},
          "execution_count": 13
        },
        {
          "output_type": "display_data",
          "data": {
            "text/plain": [
              "<Figure size 1080x1080 with 20 Axes>"
            ],
            "image/png": "[encoded data removed]"
          },
          "metadata": {
            "needs_background": "light"
          }
        }
      ]
    },
    {
      "cell_type": "code",
      "source": [
        "#Identify outliers and replace them by median\n",
        "for col_name in data.columns[:-1]:\n",
        "    q1 = data[col_name].quantile(0.25)\n",
        "    q3 = data[col_name].quantile(0.75)\n",
        "    iqr = q3 - q1\n",
        "    \n",
        "    low = q1-1.5*iqr\n",
        "    high = q3+1.5*iqr\n",
        "    \n",
        "    data.loc[(data[col_name] < low) | (data[col_name] > high), col_name] = data[col_name].median()"
      ],
      "metadata": {
        "id": "ISOX6RLBXHOM"
      },
      "execution_count": 14,
      "outputs": []
    },
    {
      "cell_type": "code",
      "source": [
        "data.plot(kind='box', figsize=(20,10))"
      ],
      "metadata": {
        "colab": {
          "base_uri": "https://localhost:8080/",
          "height": 608
        },
        "id": "hFanQAkQXHRH",
        "outputId": "9b8a9784-f7ac-4e01-ff97-ccda6a162af0"
      },
      "execution_count": 15,
      "outputs": [
        {
          "output_type": "execute_result",
          "data": {
            "text/plain": [
              "<matplotlib.axes._subplots.AxesSubplot at 0x7f7ce1159a90>"
            ]
          },
          "metadata": {},
          "execution_count": 15
        },
        {
          "output_type": "display_data",
          "data": {
            "text/plain": [
              "<Figure size 1440x720 with 1 Axes>"
            ],
            "image/png": "[encoded data removed]"
          },
          "metadata": {
            "needs_background": "light"
          }
        }
      ]
    },
    {
      "cell_type": "code",
      "source": [
        "#Create and view the correlation matrix\n",
        "data.corr()"
      ],
      "metadata": {
        "colab": {
          "base_uri": "https://localhost:8080/",
          "height": 740
        },
        "id": "EdmsvuBvXqli",
        "outputId": "16a4fa3c-d79d-4625-8a84-02166b9c23e7"
      },
      "execution_count": 16,
      "outputs": [
        {
          "output_type": "execute_result",
          "data": {
            "text/plain": [
              "                    ID      Comp      Circ    D.Circ    Rad.Ra  Pr.Axis.Ra  \\\n",
              "ID            1.000000  0.041247  0.017917 -0.000686  0.019785    0.012875   \n",
              "Comp          0.041247  1.000000  0.683624  0.780863  0.716056    0.213508   \n",
              "Circ          0.017917  0.683624  1.000000  0.799001  0.641896    0.213501   \n",
              "D.Circ       -0.000686  0.780863  0.799001  1.000000  0.795636    0.268239   \n",
              "Rad.Ra        0.019785  0.716056  0.641896  0.795636  1.000000    0.664415   \n",
              "Pr.Axis.Ra    0.012875  0.213508  0.213501  0.268239  0.664415    1.000000   \n",
              "Max.L.Ra     -0.038899  0.475541  0.560472  0.662267  0.437062    0.142539   \n",
              "Scat.Ra       0.014859  0.807215  0.860339  0.905598  0.777389    0.224501   \n",
              "Elong        -0.006429 -0.784008 -0.828911 -0.910257 -0.830344   -0.327469   \n",
              "Pr.Axis.Rect  0.016642  0.807994  0.857357  0.894926  0.750179    0.188827   \n",
              "Max.L.Rect    0.016799  0.668830  0.965119  0.773701  0.577057    0.159797   \n",
              "Sc.Var.Maxis  0.013462  0.765792  0.811806  0.867450  0.797524    0.237816   \n",
              "Sc.Var.maxis  0.011295  0.805873  0.843080  0.884908  0.765571    0.219126   \n",
              "Ra.Gyr        0.004570  0.580725  0.938749  0.715118  0.566625    0.173105   \n",
              "Skew.Maxis    0.021653 -0.248133  0.070023 -0.241163 -0.380101   -0.306276   \n",
              "Skew.maxis   -0.019154  0.179474  0.124936  0.095565  0.040607   -0.048772   \n",
              "Kurt.maxis   -0.048205  0.135369 -0.045877  0.213334  0.139666   -0.038212   \n",
              "Kurt.Maxis    0.029385  0.315190 -0.103991  0.155967  0.410417    0.405675   \n",
              "Holl.Ra       0.006687  0.369391  0.050379  0.342472  0.485980    0.417657   \n",
              "Class        -0.033656 -0.017332 -0.171417 -0.070422 -0.234477   -0.237337   \n",
              "\n",
              "              Max.L.Ra   Scat.Ra     Elong  Pr.Axis.Rect  Max.L.Rect  \\\n",
              "ID           -0.038899  0.014859 -0.006429      0.016642    0.016799   \n",
              "Comp          0.475541  0.807215 -0.784008      0.807994    0.668830   \n",
              "Circ          0.560472  0.860339 -0.828911      0.857357    0.965119   \n",
              "D.Circ        0.662267  0.905598 -0.910257      0.894926    0.773701   \n",
              "Rad.Ra        0.437062  0.777389 -0.830344      0.750179    0.577057   \n",
              "Pr.Axis.Ra    0.142539  0.224501 -0.327469      0.188827    0.159797   \n",
              "Max.L.Ra      1.000000  0.486712 -0.495950      0.486273    0.650933   \n",
              "Scat.Ra       0.486712  1.000000 -0.973523      0.991787    0.809629   \n",
              "Elong        -0.495950 -0.973523  1.000000     -0.949891   -0.773279   \n",
              "Pr.Axis.Rect  0.486273  0.991787 -0.949891      1.000000    0.812405   \n",
              "Max.L.Rect    0.650933  0.809629 -0.773279      0.812405    1.000000   \n",
              "Sc.Var.Maxis  0.395239  0.959915 -0.946153      0.946935    0.748691   \n",
              "Sc.Var.maxis  0.464872  0.981111 -0.951284      0.974434    0.790794   \n",
              "Ra.Gyr        0.418767  0.804632 -0.771836      0.801218    0.869801   \n",
              "Skew.Maxis   -0.328510  0.006499  0.084422      0.022023    0.049217   \n",
              "Skew.maxis    0.082947  0.053025 -0.042024      0.061660    0.116726   \n",
              "Kurt.maxis    0.082912  0.173850 -0.146504      0.175860   -0.032273   \n",
              "Kurt.Maxis    0.061072  0.021518 -0.131054     -0.006111   -0.106711   \n",
              "Holl.Ra       0.401580  0.131811 -0.230072      0.109542    0.081309   \n",
              "Class         0.324366 -0.289056  0.338634     -0.254703   -0.042996   \n",
              "\n",
              "              Sc.Var.Maxis  Sc.Var.maxis    Ra.Gyr  Skew.Maxis  Skew.maxis  \\\n",
              "ID                0.013462      0.011295  0.004570    0.021653   -0.019154   \n",
              "Comp              0.765792      0.805873  0.580725   -0.248133    0.179474   \n",
              "Circ              0.811806      0.843080  0.938749    0.070023    0.124936   \n",
              "D.Circ            0.867450      0.884908  0.715118   -0.241163    0.095565   \n",
              "Rad.Ra            0.797524      0.765571  0.566625   -0.380101    0.040607   \n",
              "Pr.Axis.Ra        0.237816      0.219126  0.173105   -0.306276   -0.048772   \n",
              "Max.L.Ra          0.395239      0.464872  0.418767   -0.328510    0.082947   \n",
              "Scat.Ra           0.959915      0.981111  0.804632    0.006499    0.053025   \n",
              "Elong            -0.946153     -0.951284 -0.771836    0.084422   -0.042024   \n",
              "Pr.Axis.Rect      0.946935      0.974434  0.801218    0.022023    0.061660   \n",
              "Max.L.Rect        0.748691      0.790794  0.869801    0.049217    0.116726   \n",
              "Sc.Var.Maxis      1.000000      0.940093  0.786386    0.024033    0.013374   \n",
              "Sc.Var.maxis      0.940093      1.000000  0.784794   -0.004977    0.053174   \n",
              "Ra.Gyr            0.786386      0.784794  1.000000    0.199479    0.156396   \n",
              "Skew.Maxis        0.024033     -0.004977  0.199479    1.000000   -0.089536   \n",
              "Skew.maxis        0.013374      0.053174  0.156396   -0.089536    1.000000   \n",
              "Kurt.maxis        0.161234      0.164264 -0.079836   -0.096019   -0.051458   \n",
              "Kurt.Maxis        0.031626      0.038750 -0.207117   -0.833674    0.106621   \n",
              "Holl.Ra           0.097116      0.137016 -0.091237   -0.906847    0.086752   \n",
              "Class            -0.318648     -0.280242 -0.228605   -0.260940    0.140940   \n",
              "\n",
              "              Kurt.maxis  Kurt.Maxis   Holl.Ra     Class  \n",
              "ID             -0.048205    0.029385  0.006687 -0.033656  \n",
              "Comp            0.135369    0.315190  0.369391 -0.017332  \n",
              "Circ           -0.045877   -0.103991  0.050379 -0.171417  \n",
              "D.Circ          0.213334    0.155967  0.342472 -0.070422  \n",
              "Rad.Ra          0.139666    0.410417  0.485980 -0.234477  \n",
              "Pr.Axis.Ra     -0.038212    0.405675  0.417657 -0.237337  \n",
              "Max.L.Ra        0.082912    0.061072  0.401580  0.324366  \n",
              "Scat.Ra         0.173850    0.021518  0.131811 -0.289056  \n",
              "Elong          -0.146504   -0.131054 -0.230072  0.338634  \n",
              "Pr.Axis.Rect    0.175860   -0.006111  0.109542 -0.254703  \n",
              "Max.L.Rect     -0.032273   -0.106711  0.081309 -0.042996  \n",
              "Sc.Var.Maxis    0.161234    0.031626  0.097116 -0.318648  \n",
              "Sc.Var.maxis    0.164264    0.038750  0.137016 -0.280242  \n",
              "Ra.Gyr         -0.079836   -0.207117 -0.091237 -0.228605  \n",
              "Skew.Maxis     -0.096019   -0.833674 -0.906847 -0.260940  \n",
              "Skew.maxis     -0.051458    0.106621  0.086752  0.140940  \n",
              "Kurt.maxis      1.000000    0.076520  0.164080 -0.026167  \n",
              "Kurt.Maxis      0.076520    1.000000  0.888799  0.028242  \n",
              "Holl.Ra         0.164080    0.888799  1.000000  0.203227  \n",
              "Class          -0.026167    0.028242  0.203227  1.000000  "
            ],
            "text/html": [
              "\n",
              "  <div id=\"df-67ff5fc2-0c12-44d2-8481-261d867f68ba\">\n",
              "    <div class=\"colab-df-container\">\n",
              "      <div>\n",
              "<style scoped>\n",
              "    .dataframe tbody tr th:only-of-type {\n",
              "        vertical-align: middle;\n",
              "    }\n",
              "\n",
              "    .dataframe tbody tr th {\n",
              "        vertical-align: top;\n",
              "    }\n",
              "\n",
              "    .dataframe thead th {\n",
              "        text-align: right;\n",
              "    }\n",
              "</style>\n",
              "<table border=\"1\" class=\"dataframe\">\n",
              "  <thead>\n",
              "    <tr style=\"text-align: right;\">\n",
              "      <th></th>\n",
              "      <th>ID</th>\n",
              "      <th>Comp</th>\n",
              "      <th>Circ</th>\n",
              "      <th>D.Circ</th>\n",
              "      <th>Rad.Ra</th>\n",
              "      <th>Pr.Axis.Ra</th>\n",
              "      <th>Max.L.Ra</th>\n",
              "      <th>Scat.Ra</th>\n",
              "      <th>Elong</th>\n",
              "      <th>Pr.Axis.Rect</th>\n",
              "      <th>Max.L.Rect</th>\n",
              "      <th>Sc.Var.Maxis</th>\n",
              "      <th>Sc.Var.maxis</th>\n",
              "      <th>Ra.Gyr</th>\n",
              "      <th>Skew.Maxis</th>\n",
              "      <th>Skew.maxis</th>\n",
              "      <th>Kurt.maxis</th>\n",
              "      <th>Kurt.Maxis</th>\n",
              "      <th>Holl.Ra</th>\n",
              "      <th>Class</th>\n",
              "    </tr>\n",
              "  </thead>\n",
              "  <tbody>\n",
              "    <tr>\n",
              "      <th>ID</th>\n",
              "      <td>1.000000</td>\n",
              "      <td>0.041247</td>\n",
              "      <td>0.017917</td>\n",
              "      <td>-0.000686</td>\n",
              "      <td>0.019785</td>\n",
              "      <td>0.012875</td>\n",
              "      <td>-0.038899</td>\n",
              "      <td>0.014859</td>\n",
              "      <td>-0.006429</td>\n",
              "      <td>0.016642</td>\n",
              "      <td>0.016799</td>\n",
              "      <td>0.013462</td>\n",
              "      <td>0.011295</td>\n",
              "      <td>0.004570</td>\n",
              "      <td>0.021653</td>\n",
              "      <td>-0.019154</td>\n",
              "      <td>-0.048205</td>\n",
              "      <td>0.029385</td>\n",
              "      <td>0.006687</td>\n",
              "      <td>-0.033656</td>\n",
              "    </tr>\n",
              "    <tr>\n",
              "      <th>Comp</th>\n",
              "      <td>0.041247</td>\n",
              "      <td>1.000000</td>\n",
              "      <td>0.683624</td>\n",
              "      <td>0.780863</td>\n",
              "      <td>0.716056</td>\n",
              "      <td>0.213508</td>\n",
              "      <td>0.475541</td>\n",
              "      <td>0.807215</td>\n",
              "      <td>-0.784008</td>\n",
              "      <td>0.807994</td>\n",
              "      <td>0.668830</td>\n",
              "      <td>0.765792</td>\n",
              "      <td>0.805873</td>\n",
              "      <td>0.580725</td>\n",
              "      <td>-0.248133</td>\n",
              "      <td>0.179474</td>\n",
              "      <td>0.135369</td>\n",
              "      <td>0.315190</td>\n",
              "      <td>0.369391</td>\n",
              "      <td>-0.017332</td>\n",
              "    </tr>\n",
              "    <tr>\n",
              "      <th>Circ</th>\n",
              "      <td>0.017917</td>\n",
              "      <td>0.683624</td>\n",
              "      <td>1.000000</td>\n",
              "      <td>0.799001</td>\n",
              "      <td>0.641896</td>\n",
              "      <td>0.213501</td>\n",
              "      <td>0.560472</td>\n",
              "      <td>0.860339</td>\n",
              "      <td>-0.828911</td>\n",
              "      <td>0.857357</td>\n",
              "      <td>0.965119</td>\n",
              "      <td>0.811806</td>\n",
              "      <td>0.843080</td>\n",
              "      <td>0.938749</td>\n",
              "      <td>0.070023</td>\n",
              "      <td>0.124936</td>\n",
              "      <td>-0.045877</td>\n",
              "      <td>-0.103991</td>\n",
              "      <td>0.050379</td>\n",
              "      <td>-0.171417</td>\n",
              "    </tr>\n",
              "    <tr>\n",
              "      <th>D.Circ</th>\n",
              "      <td>-0.000686</td>\n",
              "      <td>0.780863</td>\n",
              "      <td>0.799001</td>\n",
              "      <td>1.000000</td>\n",
              "      <td>0.795636</td>\n",
              "      <td>0.268239</td>\n",
              "      <td>0.662267</td>\n",
              "      <td>0.905598</td>\n",
              "      <td>-0.910257</td>\n",
              "      <td>0.894926</td>\n",
              "      <td>0.773701</td>\n",
              "      <td>0.867450</td>\n",
              "      <td>0.884908</td>\n",
              "      <td>0.715118</td>\n",
              "      <td>-0.241163</td>\n",
              "      <td>0.095565</td>\n",
              "      <td>0.213334</td>\n",
              "      <td>0.155967</td>\n",
              "      <td>0.342472</td>\n",
              "      <td>-0.070422</td>\n",
              "    </tr>\n",
              "    <tr>\n",
              "      <th>Rad.Ra</th>\n",
              "      <td>0.019785</td>\n",
              "      <td>0.716056</td>\n",
              "      <td>0.641896</td>\n",
              "      <td>0.795636</td>\n",
              "      <td>1.000000</td>\n",
              "      <td>0.664415</td>\n",
              "      <td>0.437062</td>\n",
              "      <td>0.777389</td>\n",
              "      <td>-0.830344</td>\n",
              "      <td>0.750179</td>\n",
              "      <td>0.577057</td>\n",
              "      <td>0.797524</td>\n",
              "      <td>0.765571</td>\n",
              "      <td>0.566625</td>\n",
              "      <td>-0.380101</td>\n",
              "      <td>0.040607</td>\n",
              "      <td>0.139666</td>\n",
              "      <td>0.410417</td>\n",
              "      <td>0.485980</td>\n",
              "      <td>-0.234477</td>\n",
              "    </tr>\n",
              "    <tr>\n",
              "      <th>Pr.Axis.Ra</th>\n",
              "      <td>0.012875</td>\n",
              "      <td>0.213508</td>\n",
              "      <td>0.213501</td>\n",
              "      <td>0.268239</td>\n",
              "      <td>0.664415</td>\n",
              "      <td>1.000000</td>\n",
              "      <td>0.142539</td>\n",
              "      <td>0.224501</td>\n",
              "      <td>-0.327469</td>\n",
              "      <td>0.188827</td>\n",
              "      <td>0.159797</td>\n",
              "      <td>0.237816</td>\n",
              "      <td>0.219126</td>\n",
              "      <td>0.173105</td>\n",
              "      <td>-0.306276</td>\n",
              "      <td>-0.048772</td>\n",
              "      <td>-0.038212</td>\n",
              "      <td>0.405675</td>\n",
              "      <td>0.417657</td>\n",
              "      <td>-0.237337</td>\n",
              "    </tr>\n",
              "    <tr>\n",
              "      <th>Max.L.Ra</th>\n",
              "      <td>-0.038899</td>\n",
              "      <td>0.475541</td>\n",
              "      <td>0.560472</td>\n",
              "      <td>0.662267</td>\n",
              "      <td>0.437062</td>\n",
              "      <td>0.142539</td>\n",
              "      <td>1.000000</td>\n",
              "      <td>0.486712</td>\n",
              "      <td>-0.495950</td>\n",
              "      <td>0.486273</td>\n",
              "      <td>0.650933</td>\n",
              "      <td>0.395239</td>\n",
              "      <td>0.464872</td>\n",
              "      <td>0.418767</td>\n",
              "      <td>-0.328510</td>\n",
              "      <td>0.082947</td>\n",
              "      <td>0.082912</td>\n",
              "      <td>0.061072</td>\n",
              "      <td>0.401580</td>\n",
              "      <td>0.324366</td>\n",
              "    </tr>\n",
              "    <tr>\n",
              "      <th>Scat.Ra</th>\n",
              "      <td>0.014859</td>\n",
              "      <td>0.807215</td>\n",
              "      <td>0.860339</td>\n",
              "      <td>0.905598</td>\n",
              "      <td>0.777389</td>\n",
              "      <td>0.224501</td>\n",
              "      <td>0.486712</td>\n",
              "      <td>1.000000</td>\n",
              "      <td>-0.973523</td>\n",
              "      <td>0.991787</td>\n",
              "      <td>0.809629</td>\n",
              "      <td>0.959915</td>\n",
              "      <td>0.981111</td>\n",
              "      <td>0.804632</td>\n",
              "      <td>0.006499</td>\n",
              "      <td>0.053025</td>\n",
              "      <td>0.173850</td>\n",
              "      <td>0.021518</td>\n",
              "      <td>0.131811</td>\n",
              "      <td>-0.289056</td>\n",
              "    </tr>\n",
              "    <tr>\n",
              "      <th>Elong</th>\n",
              "      <td>-0.006429</td>\n",
              "      <td>-0.784008</td>\n",
              "      <td>-0.828911</td>\n",
              "      <td>-0.910257</td>\n",
              "      <td>-0.830344</td>\n",
              "      <td>-0.327469</td>\n",
              "      <td>-0.495950</td>\n",
              "      <td>-0.973523</td>\n",
              "      <td>1.000000</td>\n",
              "      <td>-0.949891</td>\n",
              "      <td>-0.773279</td>\n",
              "      <td>-0.946153</td>\n",
              "      <td>-0.951284</td>\n",
              "      <td>-0.771836</td>\n",
              "      <td>0.084422</td>\n",
              "      <td>-0.042024</td>\n",
              "      <td>-0.146504</td>\n",
              "      <td>-0.131054</td>\n",
              "      <td>-0.230072</td>\n",
              "      <td>0.338634</td>\n",
              "    </tr>\n",
              "    <tr>\n",
              "      <th>Pr.Axis.Rect</th>\n",
              "      <td>0.016642</td>\n",
              "      <td>0.807994</td>\n",
              "      <td>0.857357</td>\n",
              "      <td>0.894926</td>\n",
              "      <td>0.750179</td>\n",
              "      <td>0.188827</td>\n",
              "      <td>0.486273</td>\n",
              "      <td>0.991787</td>\n",
              "      <td>-0.949891</td>\n",
              "      <td>1.000000</td>\n",
              "      <td>0.812405</td>\n",
              "      <td>0.946935</td>\n",
              "      <td>0.974434</td>\n",
              "      <td>0.801218</td>\n",
              "      <td>0.022023</td>\n",
              "      <td>0.061660</td>\n",
              "      <td>0.175860</td>\n",
              "      <td>-0.006111</td>\n",
              "      <td>0.109542</td>\n",
              "      <td>-0.254703</td>\n",
              "    </tr>\n",
              "    <tr>\n",
              "      <th>Max.L.Rect</th>\n",
              "      <td>0.016799</td>\n",
              "      <td>0.668830</td>\n",
              "      <td>0.965119</td>\n",
              "      <td>0.773701</td>\n",
              "      <td>0.577057</td>\n",
              "      <td>0.159797</td>\n",
              "      <td>0.650933</td>\n",
              "      <td>0.809629</td>\n",
              "      <td>-0.773279</td>\n",
              "      <td>0.812405</td>\n",
              "      <td>1.000000</td>\n",
              "      <td>0.748691</td>\n",
              "      <td>0.790794</td>\n",
              "      <td>0.869801</td>\n",
              "      <td>0.049217</td>\n",
              "      <td>0.116726</td>\n",
              "      <td>-0.032273</td>\n",
              "      <td>-0.106711</td>\n",
              "      <td>0.081309</td>\n",
              "      <td>-0.042996</td>\n",
              "    </tr>\n",
              "    <tr>\n",
              "      <th>Sc.Var.Maxis</th>\n",
              "      <td>0.013462</td>\n",
              "      <td>0.765792</td>\n",
              "      <td>0.811806</td>\n",
              "      <td>0.867450</td>\n",
              "      <td>0.797524</td>\n",
              "      <td>0.237816</td>\n",
              "      <td>0.395239</td>\n",
              "      <td>0.959915</td>\n",
              "      <td>-0.946153</td>\n",
              "      <td>0.946935</td>\n",
              "      <td>0.748691</td>\n",
              "      <td>1.000000</td>\n",
              "      <td>0.940093</td>\n",
              "      <td>0.786386</td>\n",
              "      <td>0.024033</td>\n",
              "      <td>0.013374</td>\n",
              "      <td>0.161234</td>\n",
              "      <td>0.031626</td>\n",
              "      <td>0.097116</td>\n",
              "      <td>-0.318648</td>\n",
              "    </tr>\n",
              "    <tr>\n",
              "      <th>Sc.Var.maxis</th>\n",
              "      <td>0.011295</td>\n",
              "      <td>0.805873</td>\n",
              "      <td>0.843080</td>\n",
              "      <td>0.884908</td>\n",
              "      <td>0.765571</td>\n",
              "      <td>0.219126</td>\n",
              "      <td>0.464872</td>\n",
              "      <td>0.981111</td>\n",
              "      <td>-0.951284</td>\n",
              "      <td>0.974434</td>\n",
              "      <td>0.790794</td>\n",
              "      <td>0.940093</td>\n",
              "      <td>1.000000</td>\n",
              "      <td>0.784794</td>\n",
              "      <td>-0.004977</td>\n",
              "      <td>0.053174</td>\n",
              "      <td>0.164264</td>\n",
              "      <td>0.038750</td>\n",
              "      <td>0.137016</td>\n",
              "      <td>-0.280242</td>\n",
              "    </tr>\n",
              "    <tr>\n",
              "      <th>Ra.Gyr</th>\n",
              "      <td>0.004570</td>\n",
              "      <td>0.580725</td>\n",
              "      <td>0.938749</td>\n",
              "      <td>0.715118</td>\n",
              "      <td>0.566625</td>\n",
              "      <td>0.173105</td>\n",
              "      <td>0.418767</td>\n",
              "      <td>0.804632</td>\n",
              "      <td>-0.771836</td>\n",
              "      <td>0.801218</td>\n",
              "      <td>0.869801</td>\n",
              "      <td>0.786386</td>\n",
              "      <td>0.784794</td>\n",
              "      <td>1.000000</td>\n",
              "      <td>0.199479</td>\n",
              "      <td>0.156396</td>\n",
              "      <td>-0.079836</td>\n",
              "      <td>-0.207117</td>\n",
              "      <td>-0.091237</td>\n",
              "      <td>-0.228605</td>\n",
              "    </tr>\n",
              "    <tr>\n",
              "      <th>Skew.Maxis</th>\n",
              "      <td>0.021653</td>\n",
              "      <td>-0.248133</td>\n",
              "      <td>0.070023</td>\n",
              "      <td>-0.241163</td>\n",
              "      <td>-0.380101</td>\n",
              "      <td>-0.306276</td>\n",
              "      <td>-0.328510</td>\n",
              "      <td>0.006499</td>\n",
              "      <td>0.084422</td>\n",
              "      <td>0.022023</td>\n",
              "      <td>0.049217</td>\n",
              "      <td>0.024033</td>\n",
              "      <td>-0.004977</td>\n",
              "      <td>0.199479</td>\n",
              "      <td>1.000000</td>\n",
              "      <td>-0.089536</td>\n",
              "      <td>-0.096019</td>\n",
              "      <td>-0.833674</td>\n",
              "      <td>-0.906847</td>\n",
              "      <td>-0.260940</td>\n",
              "    </tr>\n",
              "    <tr>\n",
              "      <th>Skew.maxis</th>\n",
              "      <td>-0.019154</td>\n",
              "      <td>0.179474</td>\n",
              "      <td>0.124936</td>\n",
              "      <td>0.095565</td>\n",
              "      <td>0.040607</td>\n",
              "      <td>-0.048772</td>\n",
              "      <td>0.082947</td>\n",
              "      <td>0.053025</td>\n",
              "      <td>-0.042024</td>\n",
              "      <td>0.061660</td>\n",
              "      <td>0.116726</td>\n",
              "      <td>0.013374</td>\n",
              "      <td>0.053174</td>\n",
              "      <td>0.156396</td>\n",
              "      <td>-0.089536</td>\n",
              "      <td>1.000000</td>\n",
              "      <td>-0.051458</td>\n",
              "      <td>0.106621</td>\n",
              "      <td>0.086752</td>\n",
              "      <td>0.140940</td>\n",
              "    </tr>\n",
              "    <tr>\n",
              "      <th>Kurt.maxis</th>\n",
              "      <td>-0.048205</td>\n",
              "      <td>0.135369</td>\n",
              "      <td>-0.045877</td>\n",
              "      <td>0.213334</td>\n",
              "      <td>0.139666</td>\n",
              "      <td>-0.038212</td>\n",
              "      <td>0.082912</td>\n",
              "      <td>0.173850</td>\n",
              "      <td>-0.146504</td>\n",
              "      <td>0.175860</td>\n",
              "      <td>-0.032273</td>\n",
              "      <td>0.161234</td>\n",
              "      <td>0.164264</td>\n",
              "      <td>-0.079836</td>\n",
              "      <td>-0.096019</td>\n",
              "      <td>-0.051458</td>\n",
              "      <td>1.000000</td>\n",
              "      <td>0.076520</td>\n",
              "      <td>0.164080</td>\n",
              "      <td>-0.026167</td>\n",
              "    </tr>\n",
              "    <tr>\n",
              "      <th>Kurt.Maxis</th>\n",
              "      <td>0.029385</td>\n",
              "      <td>0.315190</td>\n",
              "      <td>-0.103991</td>\n",
              "      <td>0.155967</td>\n",
              "      <td>0.410417</td>\n",
              "      <td>0.405675</td>\n",
              "      <td>0.061072</td>\n",
              "      <td>0.021518</td>\n",
              "      <td>-0.131054</td>\n",
              "      <td>-0.006111</td>\n",
              "      <td>-0.106711</td>\n",
              "      <td>0.031626</td>\n",
              "      <td>0.038750</td>\n",
              "      <td>-0.207117</td>\n",
              "      <td>-0.833674</td>\n",
              "      <td>0.106621</td>\n",
              "      <td>0.076520</td>\n",
              "      <td>1.000000</td>\n",
              "      <td>0.888799</td>\n",
              "      <td>0.028242</td>\n",
              "    </tr>\n",
              "    <tr>\n",
              "      <th>Holl.Ra</th>\n",
              "      <td>0.006687</td>\n",
              "      <td>0.369391</td>\n",
              "      <td>0.050379</td>\n",
              "      <td>0.342472</td>\n",
              "      <td>0.485980</td>\n",
              "      <td>0.417657</td>\n",
              "      <td>0.401580</td>\n",
              "      <td>0.131811</td>\n",
              "      <td>-0.230072</td>\n",
              "      <td>0.109542</td>\n",
              "      <td>0.081309</td>\n",
              "      <td>0.097116</td>\n",
              "      <td>0.137016</td>\n",
              "      <td>-0.091237</td>\n",
              "      <td>-0.906847</td>\n",
              "      <td>0.086752</td>\n",
              "      <td>0.164080</td>\n",
              "      <td>0.888799</td>\n",
              "      <td>1.000000</td>\n",
              "      <td>0.203227</td>\n",
              "    </tr>\n",
              "    <tr>\n",
              "      <th>Class</th>\n",
              "      <td>-0.033656</td>\n",
              "      <td>-0.017332</td>\n",
              "      <td>-0.171417</td>\n",
              "      <td>-0.070422</td>\n",
              "      <td>-0.234477</td>\n",
              "      <td>-0.237337</td>\n",
              "      <td>0.324366</td>\n",
              "      <td>-0.289056</td>\n",
              "      <td>0.338634</td>\n",
              "      <td>-0.254703</td>\n",
              "      <td>-0.042996</td>\n",
              "      <td>-0.318648</td>\n",
              "      <td>-0.280242</td>\n",
              "      <td>-0.228605</td>\n",
              "      <td>-0.260940</td>\n",
              "      <td>0.140940</td>\n",
              "      <td>-0.026167</td>\n",
              "      <td>0.028242</td>\n",
              "      <td>0.203227</td>\n",
              "      <td>1.000000</td>\n",
              "    </tr>\n",
              "  </tbody>\n",
              "</table>\n",
              "</div>\n",
              "      <button class=\"colab-df-convert\" onclick=\"convertToInteractive('df-67ff5fc2-0c12-44d2-8481-261d867f68ba')\"\n",
              "              title=\"Convert this dataframe to an interactive table.\"\n",
              "              style=\"display:none;\">\n",
              "        \n",
              "  <svg xmlns=\"http://www.w3.org/2000/svg\" height=\"24px\"viewBox=\"0 0 24 24\"\n",
              "       width=\"24px\">\n",
              "    <path d=\"M0 0h24v24H0V0z\" fill=\"none\"/>\n",
              "    <path d=\"M18.56 5.44l.94 2.06.94-2.06 2.06-.94-2.06-.94-.94-2.06-.94 2.06-2.06.94zm-11 1L8.5 8.5l.94-2.06 2.06-.94-2.06-.94L8.5 2.5l-.94 2.06-2.06.94zm10 10l.94 2.06.94-2.06 2.06-.94-2.06-.94-.94-2.06-.94 2.06-2.06.94z\"/><path d=\"M17.41 7.96l-1.37-1.37c-.4-.4-.92-.59-1.43-.59-.52 0-1.04.2-1.43.59L10.3 9.45l-7.72 7.72c-.78.78-.78 2.05 0 2.83L4 21.41c.39.39.9.59 1.41.59.51 0 1.02-.2 1.41-.59l7.78-7.78 2.81-2.81c.8-.78.8-2.07 0-2.86zM5.41 20L4 18.59l7.72-7.72 1.47 1.35L5.41 20z\"/>\n",
              "  </svg>\n",
              "      </button>\n",
              "      \n",
              "  <style>\n",
              "    .colab-df-container {\n",
              "      display:flex;\n",
              "      flex-wrap:wrap;\n",
              "      gap: 12px;\n",
              "    }\n",
              "\n",
              "    .colab-df-convert {\n",
              "      background-color: #E8F0FE;\n",
              "      border: none;\n",
              "      border-radius: 50%;\n",
              "      cursor: pointer;\n",
              "      display: none;\n",
              "      fill: #1967D2;\n",
              "      height: 32px;\n",
              "      padding: 0 0 0 0;\n",
              "      width: 32px;\n",
              "    }\n",
              "\n",
              "    .colab-df-convert:hover {\n",
              "      background-color: #E2EBFA;\n",
              "      box-shadow: 0px 1px 2px rgba(60, 64, 67, 0.3), 0px 1px 3px 1px rgba(60, 64, 67, 0.15);\n",
              "      fill: #174EA6;\n",
              "    }\n",
              "\n",
              "    [theme=dark] .colab-df-convert {\n",
              "      background-color: #3B4455;\n",
              "      fill: #D2E3FC;\n",
              "    }\n",
              "\n",
              "    [theme=dark] .colab-df-convert:hover {\n",
              "      background-color: #434B5C;\n",
              "      box-shadow: 0px 1px 3px 1px rgba(0, 0, 0, 0.15);\n",
              "      filter: drop-shadow(0px 1px 2px rgba(0, 0, 0, 0.3));\n",
              "      fill: #FFFFFF;\n",
              "    }\n",
              "  </style>\n",
              "\n",
              "      <script>\n",
              "        const buttonEl =\n",
              "          document.querySelector('#df-67ff5fc2-0c12-44d2-8481-261d867f68ba button.colab-df-convert');\n",
              "        buttonEl.style.display =\n",
              "          google.colab.kernel.accessAllowed ? 'block' : 'none';\n",
              "\n",
              "        async function convertToInteractive(key) {\n",
              "          const element = document.querySelector('#df-67ff5fc2-0c12-44d2-8481-261d867f68ba');\n",
              "          const dataTable =\n",
              "            await google.colab.kernel.invokeFunction('convertToInteractive',\n",
              "                                                     [key], {});\n",
              "          if (!dataTable) return;\n",
              "\n",
              "          const docLinkHtml = 'Like what you see? Visit the ' +\n",
              "            '<a target=\"_blank\" href=https://colab.research.google.com/notebooks/data_table.ipynb>data table notebook</a>'\n",
              "            + ' to learn more about interactive tables.';\n",
              "          element.innerHTML = '';\n",
              "          dataTable['output_type'] = 'display_data';\n",
              "          await google.colab.output.renderOutput(dataTable, element);\n",
              "          const docLink = document.createElement('div');\n",
              "          docLink.innerHTML = docLinkHtml;\n",
              "          element.appendChild(docLink);\n",
              "        }\n",
              "      </script>\n",
              "    </div>\n",
              "  </div>\n",
              "  "
            ]
          },
          "metadata": {},
          "execution_count": 16
        }
      ]
    },
    {
      "cell_type": "code",
      "source": [
        "X=data.iloc[:,0:-1]\n",
        "y=data.iloc[:,-1]"
      ],
      "metadata": {
        "id": "qBTuAl23XvCf"
      },
      "execution_count": 17,
      "outputs": []
    },
    {
      "cell_type": "code",
      "source": [
        "#Splitting data into train and test \n",
        "from sklearn.model_selection import train_test_split\n",
        "X_train,X_test,y_train,y_test=train_test_split(X,y,test_size=0.2,random_state=0)"
      ],
      "metadata": {
        "id": "_m1qhVvldV2g"
      },
      "execution_count": 18,
      "outputs": []
    },
    {
      "cell_type": "code",
      "source": [
        "from sklearn.preprocessing import StandardScaler\n",
        "ss=StandardScaler()"
      ],
      "metadata": {
        "id": "DjY9yG2ud5_Y"
      },
      "execution_count": 19,
      "outputs": []
    },
    {
      "cell_type": "code",
      "source": [
        "X_train=ss.fit_transform(X_train)"
      ],
      "metadata": {
        "id": "u2pbp4szeD9h"
      },
      "execution_count": 20,
      "outputs": []
    },
    {
      "cell_type": "code",
      "source": [
        "from sklearn.linear_model import LogisticRegression\n",
        "logreg=LogisticRegression()"
      ],
      "metadata": {
        "id": "5camSV2ieMHb"
      },
      "execution_count": 21,
      "outputs": []
    },
    {
      "cell_type": "code",
      "source": [
        "logreg.fit(X_train,y_train)\n",
        "y_pred=logreg.predict(X_test)"
      ],
      "metadata": {
        "colab": {
          "base_uri": "https://localhost:8080/"
        },
        "id": "33l-C1dAek8u",
        "outputId": "f5551407-e7aa-4ea5-c9c6-3430f23bb256"
      },
      "execution_count": 22,
      "outputs": [
        {
          "output_type": "stream",
          "name": "stderr",
          "text": [
            "/usr/local/lib/python3.7/dist-packages/sklearn/base.py:444: UserWarning: X has feature names, but LogisticRegression was fitted without feature names\n",
            "  f\"X has feature names, but {self.__class__.__name__} was fitted without\"\n"
          ]
        }
      ]
    },
    {
      "cell_type": "code",
      "source": [
        "print(logreg.score(X_train,y_train))\n",
        "print(logreg.score(X_test,y_test))"
      ],
      "metadata": {
        "colab": {
          "base_uri": "https://localhost:8080/"
        },
        "id": "cbJvzVI9etUt",
        "outputId": "b8334700-a497-45c8-beb0-bf0d8566709b"
      },
      "execution_count": 23,
      "outputs": [
        {
          "output_type": "stream",
          "name": "stdout",
          "text": [
            "0.8034782608695652\n",
            "0.3055555555555556\n"
          ]
        },
        {
          "output_type": "stream",
          "name": "stderr",
          "text": [
            "/usr/local/lib/python3.7/dist-packages/sklearn/base.py:444: UserWarning: X has feature names, but LogisticRegression was fitted without feature names\n",
            "  f\"X has feature names, but {self.__class__.__name__} was fitted without\"\n"
          ]
        }
      ]
    },
    {
      "cell_type": "code",
      "source": [
        "from sklearn.metrics import f1_score\n",
        "y_pred=logreg.predict(X_test)\n",
        "print(f1_score(y_test, y_pred,average='micro'))"
      ],
      "metadata": {
        "colab": {
          "base_uri": "https://localhost:8080/"
        },
        "id": "JhBcf6OCfHNu",
        "outputId": "c2fed0b5-961d-4333-b5a5-618c5a99f704"
      },
      "execution_count": 24,
      "outputs": [
        {
          "output_type": "stream",
          "name": "stdout",
          "text": [
            "0.3055555555555556\n"
          ]
        },
        {
          "output_type": "stream",
          "name": "stderr",
          "text": [
            "/usr/local/lib/python3.7/dist-packages/sklearn/base.py:444: UserWarning: X has feature names, but LogisticRegression was fitted without feature names\n",
            "  f\"X has feature names, but {self.__class__.__name__} was fitted without\"\n"
          ]
        }
      ]
    },
    {
      "cell_type": "code",
      "source": [
        "from sklearn.metrics import plot_confusion_matrix\n",
        "plot_confusion_matrix(logreg,X_test,y_test)"
      ],
      "metadata": {
        "colab": {
          "base_uri": "https://localhost:8080/",
          "height": 386
        },
        "id": "1xMc5P6XqbJP",
        "outputId": "ac29e4c8-bceb-41de-8e65-ef459e289961"
      },
      "execution_count": 25,
      "outputs": [
        {
          "output_type": "stream",
          "name": "stderr",
          "text": [
            "/usr/local/lib/python3.7/dist-packages/sklearn/utils/deprecation.py:87: FutureWarning: Function plot_confusion_matrix is deprecated; Function `plot_confusion_matrix` is deprecated in 1.0 and will be removed in 1.2. Use one of the class methods: ConfusionMatrixDisplay.from_predictions or ConfusionMatrixDisplay.from_estimator.\n",
            "  warnings.warn(msg, category=FutureWarning)\n",
            "/usr/local/lib/python3.7/dist-packages/sklearn/base.py:444: UserWarning: X has feature names, but LogisticRegression was fitted without feature names\n",
            "  f\"X has feature names, but {self.__class__.__name__} was fitted without\"\n"
          ]
        },
        {
          "output_type": "execute_result",
          "data": {
            "text/plain": [
              "<sklearn.metrics._plot.confusion_matrix.ConfusionMatrixDisplay at 0x7f7ce11522d0>"
            ]
          },
          "metadata": {},
          "execution_count": 25
        },
        {
          "output_type": "display_data",
          "data": {
            "text/plain": [
              "<Figure size 432x288 with 2 Axes>"
            ],
            "image/png": "[encoded data removed]"
          },
          "metadata": {
            "needs_background": "light"
          }
        }
      ]
    },
    {
      "cell_type": "code",
      "source": [
        "from sklearn.svm import SVC\n",
        "svc=SVC()\n",
        "svc.fit(X_train,y_train)"
      ],
      "metadata": {
        "colab": {
          "base_uri": "https://localhost:8080/"
        },
        "id": "vhYY8Jw8q_9j",
        "outputId": "bbbfea72-f98a-465d-d73b-e2ee96a80770"
      },
      "execution_count": 26,
      "outputs": [
        {
          "output_type": "execute_result",
          "data": {
            "text/plain": [
              "SVC()"
            ]
          },
          "metadata": {},
          "execution_count": 26
        }
      ]
    },
    {
      "cell_type": "code",
      "source": [
        "print(svc.score(X_train,y_train))\n",
        "print(svc.score(X_test,y_test))"
      ],
      "metadata": {
        "colab": {
          "base_uri": "https://localhost:8080/"
        },
        "id": "hh5uA_NVrTmB",
        "outputId": "8b2509df-fce3-4e7a-e9f8-9448ec5e31a9"
      },
      "execution_count": 27,
      "outputs": [
        {
          "output_type": "stream",
          "name": "stdout",
          "text": [
            "0.8539130434782609\n",
            "0.2222222222222222\n"
          ]
        },
        {
          "output_type": "stream",
          "name": "stderr",
          "text": [
            "/usr/local/lib/python3.7/dist-packages/sklearn/base.py:444: UserWarning: X has feature names, but SVC was fitted without feature names\n",
            "  f\"X has feature names, but {self.__class__.__name__} was fitted without\"\n"
          ]
        }
      ]
    },
    {
      "cell_type": "code",
      "source": [
        "from sklearn.metrics import f1_score\n",
        "y_pred=svc.predict(X_test)\n",
        "print(f1_score(y_test, y_pred,average='micro'))"
      ],
      "metadata": {
        "colab": {
          "base_uri": "https://localhost:8080/"
        },
        "id": "_Op7qhmzsJMF",
        "outputId": "cfa11dfd-2e96-4c3f-c599-d58bd3e704ba"
      },
      "execution_count": 28,
      "outputs": [
        {
          "output_type": "stream",
          "name": "stdout",
          "text": [
            "0.2222222222222222\n"
          ]
        },
        {
          "output_type": "stream",
          "name": "stderr",
          "text": [
            "/usr/local/lib/python3.7/dist-packages/sklearn/base.py:444: UserWarning: X has feature names, but SVC was fitted without feature names\n",
            "  f\"X has feature names, but {self.__class__.__name__} was fitted without\"\n"
          ]
        }
      ]
    },
    {
      "cell_type": "code",
      "source": [
        "from sklearn.metrics import plot_confusion_matrix\n",
        "plot_confusion_matrix(svc,X_test,y_test)"
      ],
      "metadata": {
        "colab": {
          "base_uri": "https://localhost:8080/",
          "height": 386
        },
        "id": "JZzM8V6Etbu0",
        "outputId": "db7edc5d-45e0-43dd-b8c4-cb8677911b4e"
      },
      "execution_count": 29,
      "outputs": [
        {
          "output_type": "stream",
          "name": "stderr",
          "text": [
            "/usr/local/lib/python3.7/dist-packages/sklearn/utils/deprecation.py:87: FutureWarning: Function plot_confusion_matrix is deprecated; Function `plot_confusion_matrix` is deprecated in 1.0 and will be removed in 1.2. Use one of the class methods: ConfusionMatrixDisplay.from_predictions or ConfusionMatrixDisplay.from_estimator.\n",
            "  warnings.warn(msg, category=FutureWarning)\n",
            "/usr/local/lib/python3.7/dist-packages/sklearn/base.py:444: UserWarning: X has feature names, but SVC was fitted without feature names\n",
            "  f\"X has feature names, but {self.__class__.__name__} was fitted without\"\n"
          ]
        },
        {
          "output_type": "execute_result",
          "data": {
            "text/plain": [
              "<sklearn.metrics._plot.confusion_matrix.ConfusionMatrixDisplay at 0x7f7ce012be50>"
            ]
          },
          "metadata": {},
          "execution_count": 29
        },
        {
          "output_type": "display_data",
          "data": {
            "text/plain": [
              "<Figure size 432x288 with 2 Axes>"
            ],
            "image/png": "[encoded data removed]"
          },
          "metadata": {
            "needs_background": "light"
          }
        }
      ]
    },
    {
      "cell_type": "code",
      "source": [
        "#KNN"
      ],
      "metadata": {
        "id": "byk4RgbQuB0k"
      },
      "execution_count": 30,
      "outputs": []
    },
    {
      "cell_type": "code",
      "source": [
        "from sklearn.neighbors import KNeighborsClassifier\n",
        "knn=KNeighborsClassifier()"
      ],
      "metadata": {
        "id": "ozCorKq1tgJ0"
      },
      "execution_count": 31,
      "outputs": []
    },
    {
      "cell_type": "code",
      "source": [
        "knn.fit(X_train,y_train)"
      ],
      "metadata": {
        "colab": {
          "base_uri": "https://localhost:8080/"
        },
        "id": "gCJBnUwGuEWG",
        "outputId": "42d9ad06-f413-4228-ad37-825725c2506b"
      },
      "execution_count": 32,
      "outputs": [
        {
          "output_type": "execute_result",
          "data": {
            "text/plain": [
              "KNeighborsClassifier()"
            ]
          },
          "metadata": {},
          "execution_count": 32
        }
      ]
    },
    {
      "cell_type": "code",
      "source": [
        "print(knn.score(X_train,y_train))\n",
        "print(knn.score(X_test,y_test))"
      ],
      "metadata": {
        "colab": {
          "base_uri": "https://localhost:8080/"
        },
        "id": "PcuuGojbuOmh",
        "outputId": "1f04409b-5b2c-46ae-a3e7-468f4c40ddcc"
      },
      "execution_count": 33,
      "outputs": [
        {
          "output_type": "stream",
          "name": "stdout",
          "text": [
            "0.8034782608695652\n",
            "0.2569444444444444\n"
          ]
        },
        {
          "output_type": "stream",
          "name": "stderr",
          "text": [
            "/usr/local/lib/python3.7/dist-packages/sklearn/base.py:444: UserWarning: X has feature names, but KNeighborsClassifier was fitted without feature names\n",
            "  f\"X has feature names, but {self.__class__.__name__} was fitted without\"\n"
          ]
        }
      ]
    },
    {
      "cell_type": "code",
      "source": [
        "from sklearn.metrics import f1_score\n",
        "y_pred=knn.predict(X_test)\n",
        "print(f1_score(y_test, y_pred,average='micro'))"
      ],
      "metadata": {
        "colab": {
          "base_uri": "https://localhost:8080/"
        },
        "id": "oibemb3MuR_S",
        "outputId": "a1c0356c-9db6-497d-f735-25e0591d8e12"
      },
      "execution_count": 34,
      "outputs": [
        {
          "output_type": "stream",
          "name": "stdout",
          "text": [
            "0.2569444444444444\n"
          ]
        },
        {
          "output_type": "stream",
          "name": "stderr",
          "text": [
            "/usr/local/lib/python3.7/dist-packages/sklearn/base.py:444: UserWarning: X has feature names, but KNeighborsClassifier was fitted without feature names\n",
            "  f\"X has feature names, but {self.__class__.__name__} was fitted without\"\n"
          ]
        }
      ]
    },
    {
      "cell_type": "code",
      "source": [
        "from sklearn.metrics import plot_confusion_matrix\n",
        "plot_confusion_matrix(knn,X_test,y_test)"
      ],
      "metadata": {
        "colab": {
          "base_uri": "https://localhost:8080/",
          "height": 386
        },
        "id": "Coi3q8WeugGc",
        "outputId": "d15be8b8-e5d2-4165-81e0-b4407a8b7409"
      },
      "execution_count": 35,
      "outputs": [
        {
          "output_type": "stream",
          "name": "stderr",
          "text": [
            "/usr/local/lib/python3.7/dist-packages/sklearn/utils/deprecation.py:87: FutureWarning: Function plot_confusion_matrix is deprecated; Function `plot_confusion_matrix` is deprecated in 1.0 and will be removed in 1.2. Use one of the class methods: ConfusionMatrixDisplay.from_predictions or ConfusionMatrixDisplay.from_estimator.\n",
            "  warnings.warn(msg, category=FutureWarning)\n",
            "/usr/local/lib/python3.7/dist-packages/sklearn/base.py:444: UserWarning: X has feature names, but KNeighborsClassifier was fitted without feature names\n",
            "  f\"X has feature names, but {self.__class__.__name__} was fitted without\"\n"
          ]
        },
        {
          "output_type": "execute_result",
          "data": {
            "text/plain": [
              "<sklearn.metrics._plot.confusion_matrix.ConfusionMatrixDisplay at 0x7f7cdfeea750>"
            ]
          },
          "metadata": {},
          "execution_count": 35
        },
        {
          "output_type": "display_data",
          "data": {
            "text/plain": [
              "<Figure size 432x288 with 2 Axes>"
            ],
            "image/png": "[encoded data removed]"
          },
          "metadata": {
            "needs_background": "light"
          }
        }
      ]
    },
    {
      "cell_type": "code",
      "source": [
        "X_test=ss.transform(X_test)"
      ],
      "metadata": {
        "id": "DPDEjLoo3IXu"
      },
      "execution_count": 36,
      "outputs": []
    },
    {
      "cell_type": "code",
      "source": [
        "from sklearn.tree import DecisionTreeClassifier\n",
        "dtc=DecisionTreeClassifier()"
      ],
      "metadata": {
        "id": "JSjepgm7umIq"
      },
      "execution_count": 37,
      "outputs": []
    },
    {
      "cell_type": "code",
      "source": [
        "dtc.fit(X_train,y_train)"
      ],
      "metadata": {
        "id": "rla0KGKcu1rM",
        "colab": {
          "base_uri": "https://localhost:8080/"
        },
        "outputId": "13894394-272e-46e5-bb81-372e1ca7fcfc"
      },
      "execution_count": 38,
      "outputs": [
        {
          "output_type": "execute_result",
          "data": {
            "text/plain": [
              "DecisionTreeClassifier()"
            ]
          },
          "metadata": {},
          "execution_count": 38
        }
      ]
    },
    {
      "cell_type": "code",
      "source": [
        "print(dtc.score(X_train,y_train))\n",
        "print(dtc.score(X_test,y_test))"
      ],
      "metadata": {
        "colab": {
          "base_uri": "https://localhost:8080/"
        },
        "id": "doSmKJLSu7BR",
        "outputId": "1eaafddc-5ee3-4f7b-e38e-0987e681588e"
      },
      "execution_count": 39,
      "outputs": [
        {
          "output_type": "stream",
          "name": "stdout",
          "text": [
            "1.0\n",
            "0.7361111111111112\n"
          ]
        }
      ]
    },
    {
      "cell_type": "code",
      "source": [
        "from sklearn.metrics import f1_score\n",
        "y_pred=dtc.predict(X_test)\n",
        "print(f1_score(y_test, y_pred,average='micro'))"
      ],
      "metadata": {
        "colab": {
          "base_uri": "https://localhost:8080/"
        },
        "id": "VHpe2iJmvEoc",
        "outputId": "2f7a9421-0671-4b08-c040-e210854263e7"
      },
      "execution_count": 40,
      "outputs": [
        {
          "output_type": "stream",
          "name": "stdout",
          "text": [
            "0.7361111111111113\n"
          ]
        }
      ]
    },
    {
      "cell_type": "code",
      "source": [
        "from sklearn.metrics import plot_confusion_matrix\n",
        "plot_confusion_matrix(dtc,X_test,y_test)"
      ],
      "metadata": {
        "colab": {
          "base_uri": "https://localhost:8080/",
          "height": 351
        },
        "id": "qa3dXQcHvHf9",
        "outputId": "6d955fb2-194e-47bb-a9cc-04cdce1da232"
      },
      "execution_count": 41,
      "outputs": [
        {
          "output_type": "stream",
          "name": "stderr",
          "text": [
            "/usr/local/lib/python3.7/dist-packages/sklearn/utils/deprecation.py:87: FutureWarning: Function plot_confusion_matrix is deprecated; Function `plot_confusion_matrix` is deprecated in 1.0 and will be removed in 1.2. Use one of the class methods: ConfusionMatrixDisplay.from_predictions or ConfusionMatrixDisplay.from_estimator.\n",
            "  warnings.warn(msg, category=FutureWarning)\n"
          ]
        },
        {
          "output_type": "execute_result",
          "data": {
            "text/plain": [
              "<sklearn.metrics._plot.confusion_matrix.ConfusionMatrixDisplay at 0x7f7cdfd84550>"
            ]
          },
          "metadata": {},
          "execution_count": 41
        },
        {
          "output_type": "display_data",
          "data": {
            "text/plain": [
              "<Figure size 432x288 with 2 Axes>"
            ],
            "image/png": "[encoded data removed]"
          },
          "metadata": {
            "needs_background": "light"
          }
        }
      ]
    },
    {
      "cell_type": "code",
      "source": [
        "dtc.feature_importances_"
      ],
      "metadata": {
        "colab": {
          "base_uri": "https://localhost:8080/"
        },
        "id": "PJlY2mMB3_9w",
        "outputId": "11b4d9ff-ea3c-4352-c636-ac50c96675cb"
      },
      "execution_count": 42,
      "outputs": [
        {
          "output_type": "execute_result",
          "data": {
            "text/plain": [
              "array([0.02398577, 0.02436912, 0.06942194, 0.01499402, 0.05786748,\n",
              "       0.07460116, 0.11089243, 0.00970239, 0.27531104, 0.00464002,\n",
              "       0.06367644, 0.01206113, 0.04417227, 0.03001714, 0.01524073,\n",
              "       0.04658483, 0.05139036, 0.01998347, 0.05108825])"
            ]
          },
          "metadata": {},
          "execution_count": 42
        }
      ]
    },
    {
      "cell_type": "code",
      "source": [
        "#RandomForestClassifier"
      ],
      "metadata": {
        "id": "nXLWK493vbaY"
      },
      "execution_count": 43,
      "outputs": []
    },
    {
      "cell_type": "code",
      "source": [
        "from sklearn.ensemble import RandomForestClassifier\n",
        "rfc=RandomForestClassifier(n_estimators=5)"
      ],
      "metadata": {
        "id": "gnklbUZavgSr"
      },
      "execution_count": 44,
      "outputs": []
    },
    {
      "cell_type": "code",
      "source": [
        "rfc.fit(X_train,y_train)"
      ],
      "metadata": {
        "colab": {
          "base_uri": "https://localhost:8080/"
        },
        "id": "LRMKPWu1vtNu",
        "outputId": "3f24dbfd-cc63-4bf9-997f-83566ae75647"
      },
      "execution_count": 45,
      "outputs": [
        {
          "output_type": "execute_result",
          "data": {
            "text/plain": [
              "RandomForestClassifier(n_estimators=5)"
            ]
          },
          "metadata": {},
          "execution_count": 45
        }
      ]
    },
    {
      "cell_type": "code",
      "source": [
        "print(rfc.score(X_train,y_train))\n",
        "print(rfc.score(X_test,y_test))"
      ],
      "metadata": {
        "colab": {
          "base_uri": "https://localhost:8080/"
        },
        "id": "rNEpdaO4vvpx",
        "outputId": "958b66b0-53ac-49e1-c140-c7e0b94f106c"
      },
      "execution_count": 46,
      "outputs": [
        {
          "output_type": "stream",
          "name": "stdout",
          "text": [
            "0.9773913043478261\n",
            "0.7916666666666666\n"
          ]
        }
      ]
    },
    {
      "cell_type": "code",
      "source": [
        "from sklearn.metrics import f1_score\n",
        "y_pred=rfc.predict(X_test)\n",
        "print(f1_score(y_test, y_pred,average='micro'))"
      ],
      "metadata": {
        "colab": {
          "base_uri": "https://localhost:8080/"
        },
        "id": "Blps91Dhv2Fb",
        "outputId": "f389e348-d2ea-4dfd-bcd1-e9b4d87de1b7"
      },
      "execution_count": 47,
      "outputs": [
        {
          "output_type": "stream",
          "name": "stdout",
          "text": [
            "0.7916666666666666\n"
          ]
        }
      ]
    },
    {
      "cell_type": "code",
      "source": [
        "from sklearn.metrics import plot_confusion_matrix\n",
        "plot_confusion_matrix(rfc,X_test,y_test)"
      ],
      "metadata": {
        "colab": {
          "base_uri": "https://localhost:8080/",
          "height": 351
        },
        "id": "0hZB70iCv6uu",
        "outputId": "f57cdbe7-4b21-483a-9df2-e85208fc2fa2"
      },
      "execution_count": 48,
      "outputs": [
        {
          "output_type": "stream",
          "name": "stderr",
          "text": [
            "/usr/local/lib/python3.7/dist-packages/sklearn/utils/deprecation.py:87: FutureWarning: Function plot_confusion_matrix is deprecated; Function `plot_confusion_matrix` is deprecated in 1.0 and will be removed in 1.2. Use one of the class methods: ConfusionMatrixDisplay.from_predictions or ConfusionMatrixDisplay.from_estimator.\n",
            "  warnings.warn(msg, category=FutureWarning)\n"
          ]
        },
        {
          "output_type": "execute_result",
          "data": {
            "text/plain": [
              "<sklearn.metrics._plot.confusion_matrix.ConfusionMatrixDisplay at 0x7f7cdf8acd10>"
            ]
          },
          "metadata": {},
          "execution_count": 48
        },
        {
          "output_type": "display_data",
          "data": {
            "text/plain": [
              "<Figure size 432x288 with 2 Axes>"
            ],
            "image/png": "[encoded data removed]"
          },
          "metadata": {
            "needs_background": "light"
          }
        }
      ]
    },
    {
      "cell_type": "code",
      "source": [
        "from sklearn.model_selection import GridSearchCV,RandomizedSearchCV"
      ],
      "metadata": {
        "id": "AxLA-859wU6n"
      },
      "execution_count": 49,
      "outputs": []
    },
    {
      "cell_type": "code",
      "source": [
        "param_dist={'max_depth':[3,6,9,None],'min_samples_leaf':[3,5,7],'criterion':['gini','entropy']}"
      ],
      "metadata": {
        "id": "VXNl3hz-wpVB"
      },
      "execution_count": 50,
      "outputs": []
    },
    {
      "cell_type": "code",
      "source": [
        "rscv=RandomizedSearchCV(dtc,param_dist,n_iter=6,cv=3)"
      ],
      "metadata": {
        "id": "-vdPofbKxCqP"
      },
      "execution_count": 51,
      "outputs": []
    },
    {
      "cell_type": "code",
      "source": [
        "rscv.fit(X_train,y_train)"
      ],
      "metadata": {
        "colab": {
          "base_uri": "https://localhost:8080/"
        },
        "id": "4BNTPZcaxOVb",
        "outputId": "b508f98c-8127-4b5f-c6d0-93cff3008aa8"
      },
      "execution_count": 52,
      "outputs": [
        {
          "output_type": "execute_result",
          "data": {
            "text/plain": [
              "RandomizedSearchCV(cv=3, estimator=DecisionTreeClassifier(), n_iter=6,\n",
              "                   param_distributions={'criterion': ['gini', 'entropy'],\n",
              "                                        'max_depth': [3, 6, 9, None],\n",
              "                                        'min_samples_leaf': [3, 5, 7]})"
            ]
          },
          "metadata": {},
          "execution_count": 52
        }
      ]
    },
    {
      "cell_type": "code",
      "source": [
        "rscv.best_estimator_"
      ],
      "metadata": {
        "colab": {
          "base_uri": "https://localhost:8080/"
        },
        "id": "3Cqr_Zuh5HjW",
        "outputId": "d66b62a6-accc-4dd6-db86-919f39313bc7"
      },
      "execution_count": 53,
      "outputs": [
        {
          "output_type": "execute_result",
          "data": {
            "text/plain": [
              "DecisionTreeClassifier(criterion='entropy', min_samples_leaf=7)"
            ]
          },
          "metadata": {},
          "execution_count": 53
        }
      ]
    },
    {
      "cell_type": "code",
      "source": [
        "rscv.best_score_"
      ],
      "metadata": {
        "colab": {
          "base_uri": "https://localhost:8080/"
        },
        "id": "q7Qqcotk5LAK",
        "outputId": "9fd70c6c-a90e-401d-93c2-5403020aab72"
      },
      "execution_count": 54,
      "outputs": [
        {
          "output_type": "execute_result",
          "data": {
            "text/plain": [
              "0.7113238074461897"
            ]
          },
          "metadata": {},
          "execution_count": 54
        }
      ]
    }
  ]
}